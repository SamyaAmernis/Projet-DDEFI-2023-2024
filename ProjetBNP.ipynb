{
  "cells": [
    {
      "cell_type": "markdown",
      "metadata": {},
      "source": [
        "**Importation of libraries**"
      ]
    },
    {
      "cell_type": "code",
      "execution_count": 1,
      "metadata": {},
      "outputs": [],
      "source": [
        "import yfinance as yf\n",
        "import pandas as pd\n",
        "\n"
      ]
    },
    {
      "cell_type": "markdown",
      "metadata": {},
      "source": [
        "**Importation of Yield Curve Euro**"
      ]
    },
    {
      "cell_type": "code",
      "execution_count": 13,
      "metadata": {},
      "outputs": [
        {
          "ename": "FileNotFoundError",
          "evalue": "[Errno 2] No such file or directory: './Taux Euro.csv'",
          "output_type": "error",
          "traceback": [
            "\u001b[0;31m---------------------------------------------------------------------------\u001b[0m",
            "\u001b[0;31mFileNotFoundError\u001b[0m                         Traceback (most recent call last)",
            "\u001b[1;32m/workspaces/Projet-DDEFI-2023-2024/ProjetBNP.ipynb Cellule 4\u001b[0m line \u001b[0;36m1\n\u001b[0;32m----> <a href='vscode-notebook-cell://codespaces%2Bfriendly-capybara-9779qvj75r6p2pqgr/workspaces/Projet-DDEFI-2023-2024/ProjetBNP.ipynb#W3sdnNjb2RlLXJlbW90ZQ%3D%3D?line=0'>1</a>\u001b[0m dftaux \u001b[39m=\u001b[39m pd\u001b[39m.\u001b[39;49mread_csv(filepath_or_buffer \u001b[39m=\u001b[39;49m \u001b[39m'\u001b[39;49m\u001b[39m./Taux Euro.csv\u001b[39;49m\u001b[39m'\u001b[39;49m,sep \u001b[39m=\u001b[39;49m \u001b[39m'\u001b[39;49m\u001b[39m,\u001b[39;49m\u001b[39m'\u001b[39;49m)\n",
            "File \u001b[0;32m~/.local/lib/python3.10/site-packages/pandas/io/parsers/readers.py:948\u001b[0m, in \u001b[0;36mread_csv\u001b[0;34m(filepath_or_buffer, sep, delimiter, header, names, index_col, usecols, dtype, engine, converters, true_values, false_values, skipinitialspace, skiprows, skipfooter, nrows, na_values, keep_default_na, na_filter, verbose, skip_blank_lines, parse_dates, infer_datetime_format, keep_date_col, date_parser, date_format, dayfirst, cache_dates, iterator, chunksize, compression, thousands, decimal, lineterminator, quotechar, quoting, doublequote, escapechar, comment, encoding, encoding_errors, dialect, on_bad_lines, delim_whitespace, low_memory, memory_map, float_precision, storage_options, dtype_backend)\u001b[0m\n\u001b[1;32m    935\u001b[0m kwds_defaults \u001b[39m=\u001b[39m _refine_defaults_read(\n\u001b[1;32m    936\u001b[0m     dialect,\n\u001b[1;32m    937\u001b[0m     delimiter,\n\u001b[0;32m   (...)\u001b[0m\n\u001b[1;32m    944\u001b[0m     dtype_backend\u001b[39m=\u001b[39mdtype_backend,\n\u001b[1;32m    945\u001b[0m )\n\u001b[1;32m    946\u001b[0m kwds\u001b[39m.\u001b[39mupdate(kwds_defaults)\n\u001b[0;32m--> 948\u001b[0m \u001b[39mreturn\u001b[39;00m _read(filepath_or_buffer, kwds)\n",
            "File \u001b[0;32m~/.local/lib/python3.10/site-packages/pandas/io/parsers/readers.py:611\u001b[0m, in \u001b[0;36m_read\u001b[0;34m(filepath_or_buffer, kwds)\u001b[0m\n\u001b[1;32m    608\u001b[0m _validate_names(kwds\u001b[39m.\u001b[39mget(\u001b[39m\"\u001b[39m\u001b[39mnames\u001b[39m\u001b[39m\"\u001b[39m, \u001b[39mNone\u001b[39;00m))\n\u001b[1;32m    610\u001b[0m \u001b[39m# Create the parser.\u001b[39;00m\n\u001b[0;32m--> 611\u001b[0m parser \u001b[39m=\u001b[39m TextFileReader(filepath_or_buffer, \u001b[39m*\u001b[39;49m\u001b[39m*\u001b[39;49mkwds)\n\u001b[1;32m    613\u001b[0m \u001b[39mif\u001b[39;00m chunksize \u001b[39mor\u001b[39;00m iterator:\n\u001b[1;32m    614\u001b[0m     \u001b[39mreturn\u001b[39;00m parser\n",
            "File \u001b[0;32m~/.local/lib/python3.10/site-packages/pandas/io/parsers/readers.py:1448\u001b[0m, in \u001b[0;36mTextFileReader.__init__\u001b[0;34m(self, f, engine, **kwds)\u001b[0m\n\u001b[1;32m   1445\u001b[0m     \u001b[39mself\u001b[39m\u001b[39m.\u001b[39moptions[\u001b[39m\"\u001b[39m\u001b[39mhas_index_names\u001b[39m\u001b[39m\"\u001b[39m] \u001b[39m=\u001b[39m kwds[\u001b[39m\"\u001b[39m\u001b[39mhas_index_names\u001b[39m\u001b[39m\"\u001b[39m]\n\u001b[1;32m   1447\u001b[0m \u001b[39mself\u001b[39m\u001b[39m.\u001b[39mhandles: IOHandles \u001b[39m|\u001b[39m \u001b[39mNone\u001b[39;00m \u001b[39m=\u001b[39m \u001b[39mNone\u001b[39;00m\n\u001b[0;32m-> 1448\u001b[0m \u001b[39mself\u001b[39m\u001b[39m.\u001b[39m_engine \u001b[39m=\u001b[39m \u001b[39mself\u001b[39;49m\u001b[39m.\u001b[39;49m_make_engine(f, \u001b[39mself\u001b[39;49m\u001b[39m.\u001b[39;49mengine)\n",
            "File \u001b[0;32m~/.local/lib/python3.10/site-packages/pandas/io/parsers/readers.py:1705\u001b[0m, in \u001b[0;36mTextFileReader._make_engine\u001b[0;34m(self, f, engine)\u001b[0m\n\u001b[1;32m   1703\u001b[0m     \u001b[39mif\u001b[39;00m \u001b[39m\"\u001b[39m\u001b[39mb\u001b[39m\u001b[39m\"\u001b[39m \u001b[39mnot\u001b[39;00m \u001b[39min\u001b[39;00m mode:\n\u001b[1;32m   1704\u001b[0m         mode \u001b[39m+\u001b[39m\u001b[39m=\u001b[39m \u001b[39m\"\u001b[39m\u001b[39mb\u001b[39m\u001b[39m\"\u001b[39m\n\u001b[0;32m-> 1705\u001b[0m \u001b[39mself\u001b[39m\u001b[39m.\u001b[39mhandles \u001b[39m=\u001b[39m get_handle(\n\u001b[1;32m   1706\u001b[0m     f,\n\u001b[1;32m   1707\u001b[0m     mode,\n\u001b[1;32m   1708\u001b[0m     encoding\u001b[39m=\u001b[39;49m\u001b[39mself\u001b[39;49m\u001b[39m.\u001b[39;49moptions\u001b[39m.\u001b[39;49mget(\u001b[39m\"\u001b[39;49m\u001b[39mencoding\u001b[39;49m\u001b[39m\"\u001b[39;49m, \u001b[39mNone\u001b[39;49;00m),\n\u001b[1;32m   1709\u001b[0m     compression\u001b[39m=\u001b[39;49m\u001b[39mself\u001b[39;49m\u001b[39m.\u001b[39;49moptions\u001b[39m.\u001b[39;49mget(\u001b[39m\"\u001b[39;49m\u001b[39mcompression\u001b[39;49m\u001b[39m\"\u001b[39;49m, \u001b[39mNone\u001b[39;49;00m),\n\u001b[1;32m   1710\u001b[0m     memory_map\u001b[39m=\u001b[39;49m\u001b[39mself\u001b[39;49m\u001b[39m.\u001b[39;49moptions\u001b[39m.\u001b[39;49mget(\u001b[39m\"\u001b[39;49m\u001b[39mmemory_map\u001b[39;49m\u001b[39m\"\u001b[39;49m, \u001b[39mFalse\u001b[39;49;00m),\n\u001b[1;32m   1711\u001b[0m     is_text\u001b[39m=\u001b[39;49mis_text,\n\u001b[1;32m   1712\u001b[0m     errors\u001b[39m=\u001b[39;49m\u001b[39mself\u001b[39;49m\u001b[39m.\u001b[39;49moptions\u001b[39m.\u001b[39;49mget(\u001b[39m\"\u001b[39;49m\u001b[39mencoding_errors\u001b[39;49m\u001b[39m\"\u001b[39;49m, \u001b[39m\"\u001b[39;49m\u001b[39mstrict\u001b[39;49m\u001b[39m\"\u001b[39;49m),\n\u001b[1;32m   1713\u001b[0m     storage_options\u001b[39m=\u001b[39;49m\u001b[39mself\u001b[39;49m\u001b[39m.\u001b[39;49moptions\u001b[39m.\u001b[39;49mget(\u001b[39m\"\u001b[39;49m\u001b[39mstorage_options\u001b[39;49m\u001b[39m\"\u001b[39;49m, \u001b[39mNone\u001b[39;49;00m),\n\u001b[1;32m   1714\u001b[0m )\n\u001b[1;32m   1715\u001b[0m \u001b[39massert\u001b[39;00m \u001b[39mself\u001b[39m\u001b[39m.\u001b[39mhandles \u001b[39mis\u001b[39;00m \u001b[39mnot\u001b[39;00m \u001b[39mNone\u001b[39;00m\n\u001b[1;32m   1716\u001b[0m f \u001b[39m=\u001b[39m \u001b[39mself\u001b[39m\u001b[39m.\u001b[39mhandles\u001b[39m.\u001b[39mhandle\n",
            "File \u001b[0;32m~/.local/lib/python3.10/site-packages/pandas/io/common.py:863\u001b[0m, in \u001b[0;36mget_handle\u001b[0;34m(path_or_buf, mode, encoding, compression, memory_map, is_text, errors, storage_options)\u001b[0m\n\u001b[1;32m    858\u001b[0m \u001b[39melif\u001b[39;00m \u001b[39misinstance\u001b[39m(handle, \u001b[39mstr\u001b[39m):\n\u001b[1;32m    859\u001b[0m     \u001b[39m# Check whether the filename is to be opened in binary mode.\u001b[39;00m\n\u001b[1;32m    860\u001b[0m     \u001b[39m# Binary mode does not support 'encoding' and 'newline'.\u001b[39;00m\n\u001b[1;32m    861\u001b[0m     \u001b[39mif\u001b[39;00m ioargs\u001b[39m.\u001b[39mencoding \u001b[39mand\u001b[39;00m \u001b[39m\"\u001b[39m\u001b[39mb\u001b[39m\u001b[39m\"\u001b[39m \u001b[39mnot\u001b[39;00m \u001b[39min\u001b[39;00m ioargs\u001b[39m.\u001b[39mmode:\n\u001b[1;32m    862\u001b[0m         \u001b[39m# Encoding\u001b[39;00m\n\u001b[0;32m--> 863\u001b[0m         handle \u001b[39m=\u001b[39m \u001b[39mopen\u001b[39;49m(\n\u001b[1;32m    864\u001b[0m             handle,\n\u001b[1;32m    865\u001b[0m             ioargs\u001b[39m.\u001b[39;49mmode,\n\u001b[1;32m    866\u001b[0m             encoding\u001b[39m=\u001b[39;49mioargs\u001b[39m.\u001b[39;49mencoding,\n\u001b[1;32m    867\u001b[0m             errors\u001b[39m=\u001b[39;49merrors,\n\u001b[1;32m    868\u001b[0m             newline\u001b[39m=\u001b[39;49m\u001b[39m\"\u001b[39;49m\u001b[39m\"\u001b[39;49m,\n\u001b[1;32m    869\u001b[0m         )\n\u001b[1;32m    870\u001b[0m     \u001b[39melse\u001b[39;00m:\n\u001b[1;32m    871\u001b[0m         \u001b[39m# Binary mode\u001b[39;00m\n\u001b[1;32m    872\u001b[0m         handle \u001b[39m=\u001b[39m \u001b[39mopen\u001b[39m(handle, ioargs\u001b[39m.\u001b[39mmode)\n",
            "\u001b[0;31mFileNotFoundError\u001b[0m: [Errno 2] No such file or directory: './Taux Euro.csv'"
          ]
        }
      ],
      "source": [
        "dftaux = pd.read_csv(filepath_or_buffer = './Taux Euro.csv',sep = ',')\n"
      ]
    },
    {
      "cell_type": "markdown",
      "metadata": {},
      "source": [
        "**Importation of yield curve Dollar**"
      ]
    },
    {
      "cell_type": "code",
      "execution_count": 42,
      "metadata": {},
      "outputs": [
        {
          "data": {
            "text/html": [
              "<div>\n",
              "<style scoped>\n",
              "    .dataframe tbody tr th:only-of-type {\n",
              "        vertical-align: middle;\n",
              "    }\n",
              "\n",
              "    .dataframe tbody tr th {\n",
              "        vertical-align: top;\n",
              "    }\n",
              "\n",
              "    .dataframe thead th {\n",
              "        text-align: right;\n",
              "    }\n",
              "</style>\n",
              "<table border=\"1\" class=\"dataframe\">\n",
              "  <thead>\n",
              "    <tr style=\"text-align: right;\">\n",
              "      <th></th>\n",
              "      <th>Date</th>\n",
              "      <th>1 Mo</th>\n",
              "      <th>2 Mo</th>\n",
              "      <th>3 Mo</th>\n",
              "      <th>4 Mo</th>\n",
              "      <th>6 Mo</th>\n",
              "      <th>1 Yr</th>\n",
              "      <th>2 Yr</th>\n",
              "      <th>3 Yr</th>\n",
              "      <th>5 Yr</th>\n",
              "      <th>7 Yr</th>\n",
              "      <th>10 Yr</th>\n",
              "      <th>20 Yr</th>\n",
              "      <th>30 Yr</th>\n",
              "    </tr>\n",
              "  </thead>\n",
              "  <tbody>\n",
              "    <tr>\n",
              "      <th>0</th>\n",
              "      <td>10/20/2023</td>\n",
              "      <td>5.56</td>\n",
              "      <td>5.56</td>\n",
              "      <td>5.58</td>\n",
              "      <td>5.61</td>\n",
              "      <td>5.54</td>\n",
              "      <td>5.41</td>\n",
              "      <td>5.07</td>\n",
              "      <td>4.93</td>\n",
              "      <td>4.86</td>\n",
              "      <td>4.93</td>\n",
              "      <td>4.93</td>\n",
              "      <td>5.27</td>\n",
              "      <td>5.09</td>\n",
              "    </tr>\n",
              "    <tr>\n",
              "      <th>1</th>\n",
              "      <td>10/19/2023</td>\n",
              "      <td>5.58</td>\n",
              "      <td>5.57</td>\n",
              "      <td>5.60</td>\n",
              "      <td>5.62</td>\n",
              "      <td>5.56</td>\n",
              "      <td>5.44</td>\n",
              "      <td>5.14</td>\n",
              "      <td>5.01</td>\n",
              "      <td>4.95</td>\n",
              "      <td>5.00</td>\n",
              "      <td>4.98</td>\n",
              "      <td>5.30</td>\n",
              "      <td>5.11</td>\n",
              "    </tr>\n",
              "    <tr>\n",
              "      <th>2</th>\n",
              "      <td>10/18/2023</td>\n",
              "      <td>5.57</td>\n",
              "      <td>5.56</td>\n",
              "      <td>5.61</td>\n",
              "      <td>5.62</td>\n",
              "      <td>5.58</td>\n",
              "      <td>5.47</td>\n",
              "      <td>5.19</td>\n",
              "      <td>5.03</td>\n",
              "      <td>4.92</td>\n",
              "      <td>4.95</td>\n",
              "      <td>4.91</td>\n",
              "      <td>5.20</td>\n",
              "      <td>5.00</td>\n",
              "    </tr>\n",
              "    <tr>\n",
              "      <th>3</th>\n",
              "      <td>10/17/2023</td>\n",
              "      <td>5.58</td>\n",
              "      <td>5.58</td>\n",
              "      <td>5.62</td>\n",
              "      <td>5.64</td>\n",
              "      <td>5.60</td>\n",
              "      <td>5.48</td>\n",
              "      <td>5.19</td>\n",
              "      <td>5.01</td>\n",
              "      <td>4.86</td>\n",
              "      <td>4.88</td>\n",
              "      <td>4.83</td>\n",
              "      <td>5.14</td>\n",
              "      <td>4.94</td>\n",
              "    </tr>\n",
              "    <tr>\n",
              "      <th>4</th>\n",
              "      <td>10/16/2023</td>\n",
              "      <td>5.57</td>\n",
              "      <td>5.58</td>\n",
              "      <td>5.61</td>\n",
              "      <td>5.63</td>\n",
              "      <td>5.58</td>\n",
              "      <td>5.42</td>\n",
              "      <td>5.09</td>\n",
              "      <td>4.87</td>\n",
              "      <td>4.72</td>\n",
              "      <td>4.74</td>\n",
              "      <td>4.71</td>\n",
              "      <td>5.06</td>\n",
              "      <td>4.87</td>\n",
              "    </tr>\n",
              "  </tbody>\n",
              "</table>\n",
              "</div>"
            ],
            "text/plain": [
              "         Date  1 Mo  2 Mo  3 Mo  4 Mo  6 Mo  1 Yr  2 Yr  3 Yr  5 Yr  7 Yr  \\\n",
              "0  10/20/2023  5.56  5.56  5.58  5.61  5.54  5.41  5.07  4.93  4.86  4.93   \n",
              "1  10/19/2023  5.58  5.57  5.60  5.62  5.56  5.44  5.14  5.01  4.95  5.00   \n",
              "2  10/18/2023  5.57  5.56  5.61  5.62  5.58  5.47  5.19  5.03  4.92  4.95   \n",
              "3  10/17/2023  5.58  5.58  5.62  5.64  5.60  5.48  5.19  5.01  4.86  4.88   \n",
              "4  10/16/2023  5.57  5.58  5.61  5.63  5.58  5.42  5.09  4.87  4.72  4.74   \n",
              "\n",
              "   10 Yr  20 Yr  30 Yr  \n",
              "0   4.93   5.27   5.09  \n",
              "1   4.98   5.30   5.11  \n",
              "2   4.91   5.20   5.00  \n",
              "3   4.83   5.14   4.94  \n",
              "4   4.71   5.06   4.87  "
            ]
          },
          "execution_count": 42,
          "metadata": {},
          "output_type": "execute_result"
        }
      ],
      "source": [
        "dftaux = pd.read_csv(filepath_or_buffer = './Courbe de taux 2023 $.csv',sep = ',')\n",
        "dftaux.head()"
      ]
    },
    {
      "cell_type": "markdown",
      "metadata": {},
      "source": [
        "**Import of the Euro/Dollar exchange rate**"
      ]
    },
    {
      "cell_type": "code",
      "execution_count": 3,
      "metadata": {},
      "outputs": [
        {
          "ename": "FileNotFoundError",
          "evalue": "[Errno 2] No such file or directory: './Taux de change euro dollar.csv'",
          "output_type": "error",
          "traceback": [
            "\u001b[0;31m---------------------------------------------------------------------------\u001b[0m",
            "\u001b[0;31mFileNotFoundError\u001b[0m                         Traceback (most recent call last)",
            "\u001b[1;32m/workspaces/Projet-DDEFI-2023-2024/ProjetBNP.ipynb Cellule 8\u001b[0m line \u001b[0;36m1\n\u001b[0;32m----> <a href='vscode-notebook-cell://codespaces%2Bfriendly-capybara-9779qvj75r6p2pqgr/workspaces/Projet-DDEFI-2023-2024/ProjetBNP.ipynb#X10sdnNjb2RlLXJlbW90ZQ%3D%3D?line=0'>1</a>\u001b[0m dftaux \u001b[39m=\u001b[39m pd\u001b[39m.\u001b[39;49mread_csv(filepath_or_buffer \u001b[39m=\u001b[39;49m \u001b[39m'\u001b[39;49m\u001b[39m./Taux de change euro dollar.csv\u001b[39;49m\u001b[39m'\u001b[39;49m,sep \u001b[39m=\u001b[39;49m \u001b[39m'\u001b[39;49m\u001b[39m,\u001b[39;49m\u001b[39m'\u001b[39;49m)\n\u001b[1;32m      <a href='vscode-notebook-cell://codespaces%2Bfriendly-capybara-9779qvj75r6p2pqgr/workspaces/Projet-DDEFI-2023-2024/ProjetBNP.ipynb#X10sdnNjb2RlLXJlbW90ZQ%3D%3D?line=1'>2</a>\u001b[0m dftaux\u001b[39m.\u001b[39mtail(\u001b[39m10\u001b[39m)\n",
            "File \u001b[0;32m~/.local/lib/python3.10/site-packages/pandas/io/parsers/readers.py:948\u001b[0m, in \u001b[0;36mread_csv\u001b[0;34m(filepath_or_buffer, sep, delimiter, header, names, index_col, usecols, dtype, engine, converters, true_values, false_values, skipinitialspace, skiprows, skipfooter, nrows, na_values, keep_default_na, na_filter, verbose, skip_blank_lines, parse_dates, infer_datetime_format, keep_date_col, date_parser, date_format, dayfirst, cache_dates, iterator, chunksize, compression, thousands, decimal, lineterminator, quotechar, quoting, doublequote, escapechar, comment, encoding, encoding_errors, dialect, on_bad_lines, delim_whitespace, low_memory, memory_map, float_precision, storage_options, dtype_backend)\u001b[0m\n\u001b[1;32m    935\u001b[0m kwds_defaults \u001b[39m=\u001b[39m _refine_defaults_read(\n\u001b[1;32m    936\u001b[0m     dialect,\n\u001b[1;32m    937\u001b[0m     delimiter,\n\u001b[0;32m   (...)\u001b[0m\n\u001b[1;32m    944\u001b[0m     dtype_backend\u001b[39m=\u001b[39mdtype_backend,\n\u001b[1;32m    945\u001b[0m )\n\u001b[1;32m    946\u001b[0m kwds\u001b[39m.\u001b[39mupdate(kwds_defaults)\n\u001b[0;32m--> 948\u001b[0m \u001b[39mreturn\u001b[39;00m _read(filepath_or_buffer, kwds)\n",
            "File \u001b[0;32m~/.local/lib/python3.10/site-packages/pandas/io/parsers/readers.py:611\u001b[0m, in \u001b[0;36m_read\u001b[0;34m(filepath_or_buffer, kwds)\u001b[0m\n\u001b[1;32m    608\u001b[0m _validate_names(kwds\u001b[39m.\u001b[39mget(\u001b[39m\"\u001b[39m\u001b[39mnames\u001b[39m\u001b[39m\"\u001b[39m, \u001b[39mNone\u001b[39;00m))\n\u001b[1;32m    610\u001b[0m \u001b[39m# Create the parser.\u001b[39;00m\n\u001b[0;32m--> 611\u001b[0m parser \u001b[39m=\u001b[39m TextFileReader(filepath_or_buffer, \u001b[39m*\u001b[39;49m\u001b[39m*\u001b[39;49mkwds)\n\u001b[1;32m    613\u001b[0m \u001b[39mif\u001b[39;00m chunksize \u001b[39mor\u001b[39;00m iterator:\n\u001b[1;32m    614\u001b[0m     \u001b[39mreturn\u001b[39;00m parser\n",
            "File \u001b[0;32m~/.local/lib/python3.10/site-packages/pandas/io/parsers/readers.py:1448\u001b[0m, in \u001b[0;36mTextFileReader.__init__\u001b[0;34m(self, f, engine, **kwds)\u001b[0m\n\u001b[1;32m   1445\u001b[0m     \u001b[39mself\u001b[39m\u001b[39m.\u001b[39moptions[\u001b[39m\"\u001b[39m\u001b[39mhas_index_names\u001b[39m\u001b[39m\"\u001b[39m] \u001b[39m=\u001b[39m kwds[\u001b[39m\"\u001b[39m\u001b[39mhas_index_names\u001b[39m\u001b[39m\"\u001b[39m]\n\u001b[1;32m   1447\u001b[0m \u001b[39mself\u001b[39m\u001b[39m.\u001b[39mhandles: IOHandles \u001b[39m|\u001b[39m \u001b[39mNone\u001b[39;00m \u001b[39m=\u001b[39m \u001b[39mNone\u001b[39;00m\n\u001b[0;32m-> 1448\u001b[0m \u001b[39mself\u001b[39m\u001b[39m.\u001b[39m_engine \u001b[39m=\u001b[39m \u001b[39mself\u001b[39;49m\u001b[39m.\u001b[39;49m_make_engine(f, \u001b[39mself\u001b[39;49m\u001b[39m.\u001b[39;49mengine)\n",
            "File \u001b[0;32m~/.local/lib/python3.10/site-packages/pandas/io/parsers/readers.py:1705\u001b[0m, in \u001b[0;36mTextFileReader._make_engine\u001b[0;34m(self, f, engine)\u001b[0m\n\u001b[1;32m   1703\u001b[0m     \u001b[39mif\u001b[39;00m \u001b[39m\"\u001b[39m\u001b[39mb\u001b[39m\u001b[39m\"\u001b[39m \u001b[39mnot\u001b[39;00m \u001b[39min\u001b[39;00m mode:\n\u001b[1;32m   1704\u001b[0m         mode \u001b[39m+\u001b[39m\u001b[39m=\u001b[39m \u001b[39m\"\u001b[39m\u001b[39mb\u001b[39m\u001b[39m\"\u001b[39m\n\u001b[0;32m-> 1705\u001b[0m \u001b[39mself\u001b[39m\u001b[39m.\u001b[39mhandles \u001b[39m=\u001b[39m get_handle(\n\u001b[1;32m   1706\u001b[0m     f,\n\u001b[1;32m   1707\u001b[0m     mode,\n\u001b[1;32m   1708\u001b[0m     encoding\u001b[39m=\u001b[39;49m\u001b[39mself\u001b[39;49m\u001b[39m.\u001b[39;49moptions\u001b[39m.\u001b[39;49mget(\u001b[39m\"\u001b[39;49m\u001b[39mencoding\u001b[39;49m\u001b[39m\"\u001b[39;49m, \u001b[39mNone\u001b[39;49;00m),\n\u001b[1;32m   1709\u001b[0m     compression\u001b[39m=\u001b[39;49m\u001b[39mself\u001b[39;49m\u001b[39m.\u001b[39;49moptions\u001b[39m.\u001b[39;49mget(\u001b[39m\"\u001b[39;49m\u001b[39mcompression\u001b[39;49m\u001b[39m\"\u001b[39;49m, \u001b[39mNone\u001b[39;49;00m),\n\u001b[1;32m   1710\u001b[0m     memory_map\u001b[39m=\u001b[39;49m\u001b[39mself\u001b[39;49m\u001b[39m.\u001b[39;49moptions\u001b[39m.\u001b[39;49mget(\u001b[39m\"\u001b[39;49m\u001b[39mmemory_map\u001b[39;49m\u001b[39m\"\u001b[39;49m, \u001b[39mFalse\u001b[39;49;00m),\n\u001b[1;32m   1711\u001b[0m     is_text\u001b[39m=\u001b[39;49mis_text,\n\u001b[1;32m   1712\u001b[0m     errors\u001b[39m=\u001b[39;49m\u001b[39mself\u001b[39;49m\u001b[39m.\u001b[39;49moptions\u001b[39m.\u001b[39;49mget(\u001b[39m\"\u001b[39;49m\u001b[39mencoding_errors\u001b[39;49m\u001b[39m\"\u001b[39;49m, \u001b[39m\"\u001b[39;49m\u001b[39mstrict\u001b[39;49m\u001b[39m\"\u001b[39;49m),\n\u001b[1;32m   1713\u001b[0m     storage_options\u001b[39m=\u001b[39;49m\u001b[39mself\u001b[39;49m\u001b[39m.\u001b[39;49moptions\u001b[39m.\u001b[39;49mget(\u001b[39m\"\u001b[39;49m\u001b[39mstorage_options\u001b[39;49m\u001b[39m\"\u001b[39;49m, \u001b[39mNone\u001b[39;49;00m),\n\u001b[1;32m   1714\u001b[0m )\n\u001b[1;32m   1715\u001b[0m \u001b[39massert\u001b[39;00m \u001b[39mself\u001b[39m\u001b[39m.\u001b[39mhandles \u001b[39mis\u001b[39;00m \u001b[39mnot\u001b[39;00m \u001b[39mNone\u001b[39;00m\n\u001b[1;32m   1716\u001b[0m f \u001b[39m=\u001b[39m \u001b[39mself\u001b[39m\u001b[39m.\u001b[39mhandles\u001b[39m.\u001b[39mhandle\n",
            "File \u001b[0;32m~/.local/lib/python3.10/site-packages/pandas/io/common.py:863\u001b[0m, in \u001b[0;36mget_handle\u001b[0;34m(path_or_buf, mode, encoding, compression, memory_map, is_text, errors, storage_options)\u001b[0m\n\u001b[1;32m    858\u001b[0m \u001b[39melif\u001b[39;00m \u001b[39misinstance\u001b[39m(handle, \u001b[39mstr\u001b[39m):\n\u001b[1;32m    859\u001b[0m     \u001b[39m# Check whether the filename is to be opened in binary mode.\u001b[39;00m\n\u001b[1;32m    860\u001b[0m     \u001b[39m# Binary mode does not support 'encoding' and 'newline'.\u001b[39;00m\n\u001b[1;32m    861\u001b[0m     \u001b[39mif\u001b[39;00m ioargs\u001b[39m.\u001b[39mencoding \u001b[39mand\u001b[39;00m \u001b[39m\"\u001b[39m\u001b[39mb\u001b[39m\u001b[39m\"\u001b[39m \u001b[39mnot\u001b[39;00m \u001b[39min\u001b[39;00m ioargs\u001b[39m.\u001b[39mmode:\n\u001b[1;32m    862\u001b[0m         \u001b[39m# Encoding\u001b[39;00m\n\u001b[0;32m--> 863\u001b[0m         handle \u001b[39m=\u001b[39m \u001b[39mopen\u001b[39;49m(\n\u001b[1;32m    864\u001b[0m             handle,\n\u001b[1;32m    865\u001b[0m             ioargs\u001b[39m.\u001b[39;49mmode,\n\u001b[1;32m    866\u001b[0m             encoding\u001b[39m=\u001b[39;49mioargs\u001b[39m.\u001b[39;49mencoding,\n\u001b[1;32m    867\u001b[0m             errors\u001b[39m=\u001b[39;49merrors,\n\u001b[1;32m    868\u001b[0m             newline\u001b[39m=\u001b[39;49m\u001b[39m\"\u001b[39;49m\u001b[39m\"\u001b[39;49m,\n\u001b[1;32m    869\u001b[0m         )\n\u001b[1;32m    870\u001b[0m     \u001b[39melse\u001b[39;00m:\n\u001b[1;32m    871\u001b[0m         \u001b[39m# Binary mode\u001b[39;00m\n\u001b[1;32m    872\u001b[0m         handle \u001b[39m=\u001b[39m \u001b[39mopen\u001b[39m(handle, ioargs\u001b[39m.\u001b[39mmode)\n",
            "\u001b[0;31mFileNotFoundError\u001b[0m: [Errno 2] No such file or directory: './Taux de change euro dollar.csv'"
          ]
        }
      ],
      "source": [
        "dftaux = pd.read_csv(filepath_or_buffer = './Taux de change euro dollar.csv',sep = ',')\n",
        "dftaux.tail(10)"
      ]
    },
    {
      "cell_type": "markdown",
      "metadata": {},
      "source": [
        "**Importation of stock indices from Yahoo Finance**"
      ]
    },
    {
      "cell_type": "markdown",
      "metadata": {},
      "source": [
        "S&P 500\n"
      ]
    },
    {
      "cell_type": "code",
      "execution_count": 2,
      "metadata": {},
      "outputs": [
        {
          "name": "stdout",
          "output_type": "stream",
          "text": [
            "                   Open         High          Low        Close    Adj Close  \\\n",
            "Date                                                                          \n",
            "2013-10-24  1747.479980  1753.939941  1745.500000  1752.069946  1752.069946   \n",
            "2013-10-25  1756.010010  1759.819946  1752.449951  1759.770020  1759.770020   \n",
            "2013-10-28  1759.420044  1764.989990  1757.670044  1762.109985  1762.109985   \n",
            "2013-10-29  1762.930054  1772.089966  1762.930054  1771.949951  1771.949951   \n",
            "2013-10-30  1772.270020  1775.219971  1757.239990  1763.310059  1763.310059   \n",
            "\n",
            "                Volume  \n",
            "Date                    \n",
            "2013-10-24  3671700000  \n",
            "2013-10-25  3175720000  \n",
            "2013-10-28  3282300000  \n",
            "2013-10-29  3358460000  \n",
            "2013-10-30  3523040000  \n"
          ]
        },
        {
          "data": {
            "text/plain": [
              "15096"
            ]
          },
          "execution_count": 2,
          "metadata": {},
          "output_type": "execute_result"
        }
      ],
      "source": [
        "\n",
        "sp500_data = yf.download('^GSPC', start='2013-10-24', end='2023-10-24', progress=False)\n",
        "print(sp500_data.head())\n",
        "sp500_data.size"
      ]
    },
    {
      "cell_type": "markdown",
      "metadata": {},
      "source": [
        "Eurostoxx50"
      ]
    },
    {
      "cell_type": "code",
      "execution_count": 3,
      "metadata": {},
      "outputs": [
        {
          "name": "stdout",
          "output_type": "stream",
          "text": [
            "                   Open         High          Low        Close    Adj Close  \\\n",
            "Date                                                                          \n",
            "2013-10-24  3024.689941  3038.959961  3022.280029  3038.959961  3038.959961   \n",
            "2013-10-25  3027.840088  3043.840088  3021.010010  3034.500000  3034.500000   \n",
            "2013-10-28  3041.159912  3045.139893  3009.800049  3022.040039  3022.040039   \n",
            "2013-10-29  3019.649902  3050.739990  3017.729980  3050.639893  3050.639893   \n",
            "2013-10-30  3049.090088  3073.879883  3035.020020  3040.689941  3040.689941   \n",
            "\n",
            "              Volume  \n",
            "Date                  \n",
            "2013-10-24  53819900  \n",
            "2013-10-25  49404800  \n",
            "2013-10-28  51393200  \n",
            "2013-10-29  59850600  \n",
            "2013-10-30  60923400  \n"
          ]
        },
        {
          "data": {
            "text/plain": [
              "15054"
            ]
          },
          "execution_count": 3,
          "metadata": {},
          "output_type": "execute_result"
        }
      ],
      "source": [
        "Eurostoxx50_data = yf.download('^STOXX50E', start='2013-10-24', end='2023-10-24', progress=False)\n",
        "print(Eurostoxx50_data.head())\n",
        "Eurostoxx50_data.size"
      ]
    },
    {
      "cell_type": "markdown",
      "metadata": {},
      "source": [
        "**Data normalization and dataframe creation**"
      ]
    },
    {
      "cell_type": "code",
      "execution_count": 5,
      "metadata": {},
      "outputs": [
        {
          "name": "stderr",
          "output_type": "stream",
          "text": [
            "UsageError: Line magic function `%normalized_dfSP['Date']` not found.\n"
          ]
        }
      ],
      "source": [
        "\n",
        "normalized_data = sp500_data['Adj Close']\n",
        "\n",
        "normalized_data = normalized_data.rename('S&P 500')\n",
        "\n",
        "normalized_dfSP = pd.DataFrame(normalized_data)\n",
        "%normalized_dfSP['Date'] = pd.to_datetime(normalized_dfSP['Date'], format='%Y-%m-%d', utc=True).dt.date\n",
        "\n",
        "\n",
        "normalized_dfSP.index = normalized_dfSP.index.date\n",
        "\n",
        "print(normalized_dfSP)\n",
        "\n",
        "\n"
      ]
    },
    {
      "cell_type": "code",
      "execution_count": 6,
      "metadata": {},
      "outputs": [
        {
          "name": "stdout",
          "output_type": "stream",
          "text": [
            "            Eurostoxx50 \n",
            "2013-10-24   3038.959961\n",
            "2013-10-25   3034.500000\n",
            "2013-10-28   3022.040039\n",
            "2013-10-29   3050.639893\n",
            "2013-10-30   3040.689941\n",
            "...                  ...\n",
            "2023-10-17   4152.319824\n",
            "2023-10-18   4105.859863\n",
            "2023-10-19   4090.330078\n",
            "2023-10-20   4024.679932\n",
            "2023-10-23   4041.750000\n",
            "\n",
            "[2509 rows x 1 columns]\n"
          ]
        }
      ],
      "source": [
        "normalized_data2 = Eurostoxx50_data['Adj Close']\n",
        "\n",
        "normalized_data2 = normalized_data2.rename('Eurostoxx50 ')\n",
        "\n",
        "normalized_dfEurostoxx50 = pd.DataFrame(normalized_data2)\n",
        "\n",
        "normalized_dfEurostoxx50.index = normalized_dfEurostoxx50.index.date\n",
        "\n",
        "print(normalized_dfEurostoxx50)"
      ]
    },
    {
      "cell_type": "markdown",
      "metadata": {},
      "source": [
        "**Dataframe merging**"
      ]
    },
    {
      "cell_type": "code",
      "execution_count": 7,
      "metadata": {},
      "outputs": [
        {
          "name": "stdout",
          "output_type": "stream",
          "text": [
            "                S&P 500  Eurostoxx50 \n",
            "2013-10-24  1752.069946   3038.959961\n",
            "2013-10-25  1759.770020   3034.500000\n",
            "2013-10-28  1762.109985   3022.040039\n",
            "2013-10-29  1771.949951   3050.639893\n",
            "2013-10-30  1763.310059   3040.689941\n",
            "...                 ...           ...\n",
            "2023-10-17  4373.200195   4152.319824\n",
            "2023-10-18  4314.600098   4105.859863\n",
            "2023-10-19  4278.000000   4090.330078\n",
            "2023-10-20  4224.160156   4024.679932\n",
            "2023-10-23  4217.040039   4041.750000\n",
            "\n",
            "[2449 rows x 2 columns]\n"
          ]
        }
      ],
      "source": [
        "dfindices = normalized_dfSP.merge(normalized_dfEurostoxx50, left_index=True, right_index=True)\n",
        "print(dfindices)"
      ]
    },
    {
      "cell_type": "code",
      "execution_count": 11,
      "metadata": {},
      "outputs": [],
      "source": [
        "import random\n",
        "from timeseries import TimeSeries"
      ]
    },
    {
      "cell_type": "code",
      "execution_count": 20,
      "metadata": {},
      "outputs": [
        {
          "ename": "KeyError",
          "evalue": "\"['Date', 'EURSTOXX50'] not in index\"",
          "output_type": "error",
          "traceback": [
            "\u001b[0;31m---------------------------------------------------------------------------\u001b[0m",
            "\u001b[0;31mKeyError\u001b[0m                                  Traceback (most recent call last)",
            "\u001b[1;32m/workspaces/Projet-DDEFI-2023-2024/ProjetBNP.ipynb Cellule 20\u001b[0m line \u001b[0;36m5\n\u001b[1;32m      <a href='vscode-notebook-cell://codespaces%2Bfriendly-capybara-9779qvj75r6p2pqgr/workspaces/Projet-DDEFI-2023-2024/ProjetBNP.ipynb#X25sdnNjb2RlLXJlbW90ZQ%3D%3D?line=0'>1</a>\u001b[0m symbols \u001b[39m=\u001b[39m [\u001b[39m'\u001b[39m\u001b[39mS&P 500\u001b[39m\u001b[39m'\u001b[39m, \u001b[39m'\u001b[39m\u001b[39mEURSTOXX50\u001b[39m\u001b[39m'\u001b[39m]\n\u001b[1;32m      <a href='vscode-notebook-cell://codespaces%2Bfriendly-capybara-9779qvj75r6p2pqgr/workspaces/Projet-DDEFI-2023-2024/ProjetBNP.ipynb#X25sdnNjb2RlLXJlbW90ZQ%3D%3D?line=2'>3</a>\u001b[0m random\u001b[39m.\u001b[39mseed(\u001b[39m14021999\u001b[39m)\n\u001b[0;32m----> <a href='vscode-notebook-cell://codespaces%2Bfriendly-capybara-9779qvj75r6p2pqgr/workspaces/Projet-DDEFI-2023-2024/ProjetBNP.ipynb#X25sdnNjb2RlLXJlbW90ZQ%3D%3D?line=4'>5</a>\u001b[0m ts \u001b[39m=\u001b[39m TimeSeries(dfindices, symbols)\n",
            "File \u001b[0;32m/workspaces/Projet-DDEFI-2023-2024/timeseries.py:31\u001b[0m, in \u001b[0;36mTimeSeries.__init__\u001b[0;34m(self, data, symbols)\u001b[0m\n\u001b[1;32m     13\u001b[0m \u001b[39mdef\u001b[39;00m \u001b[39m__init__\u001b[39m(\u001b[39mself\u001b[39m, data:pd\u001b[39m.\u001b[39mDataFrame, symbols:\u001b[39mlist\u001b[39m):\n\u001b[1;32m     14\u001b[0m \u001b[39m  \u001b[39m\u001b[39m'''\u001b[39;00m\n\u001b[1;32m     15\u001b[0m \u001b[39m  Initialization of the class\u001b[39;00m\n\u001b[1;32m     16\u001b[0m \u001b[39m  data : pd.DataFrame\u001b[39;00m\n\u001b[0;32m   (...)\u001b[0m\n\u001b[1;32m     28\u001b[0m \u001b[39m    Dataframe with the correlation matrix of the returns\u001b[39;00m\n\u001b[1;32m     29\u001b[0m \u001b[39m  '''\u001b[39;00m\n\u001b[0;32m---> 31\u001b[0m   \u001b[39mself\u001b[39m\u001b[39m.\u001b[39mdata \u001b[39m=\u001b[39m data[[\u001b[39m'\u001b[39;49m\u001b[39mDate\u001b[39;49m\u001b[39m'\u001b[39;49m,\u001b[39m*\u001b[39;49msymbols]]\u001b[39m.\u001b[39mcopy() \u001b[39m# we select the columns we need\u001b[39;00m\n\u001b[1;32m     32\u001b[0m   \u001b[39mself\u001b[39m\u001b[39m.\u001b[39msymbols \u001b[39m=\u001b[39m symbols \u001b[39m# name of rates\u001b[39;00m\n\u001b[1;32m     33\u001b[0m   \u001b[39mself\u001b[39m\u001b[39m.\u001b[39mn_cols \u001b[39m=\u001b[39m \u001b[39mlen\u001b[39m(symbols)\n",
            "File \u001b[0;32m~/.local/lib/python3.10/site-packages/pandas/core/frame.py:3902\u001b[0m, in \u001b[0;36mDataFrame.__getitem__\u001b[0;34m(self, key)\u001b[0m\n\u001b[1;32m   3900\u001b[0m     \u001b[39mif\u001b[39;00m is_iterator(key):\n\u001b[1;32m   3901\u001b[0m         key \u001b[39m=\u001b[39m \u001b[39mlist\u001b[39m(key)\n\u001b[0;32m-> 3902\u001b[0m     indexer \u001b[39m=\u001b[39m \u001b[39mself\u001b[39;49m\u001b[39m.\u001b[39;49mcolumns\u001b[39m.\u001b[39;49m_get_indexer_strict(key, \u001b[39m\"\u001b[39;49m\u001b[39mcolumns\u001b[39;49m\u001b[39m\"\u001b[39;49m)[\u001b[39m1\u001b[39m]\n\u001b[1;32m   3904\u001b[0m \u001b[39m# take() does not accept boolean indexers\u001b[39;00m\n\u001b[1;32m   3905\u001b[0m \u001b[39mif\u001b[39;00m \u001b[39mgetattr\u001b[39m(indexer, \u001b[39m\"\u001b[39m\u001b[39mdtype\u001b[39m\u001b[39m\"\u001b[39m, \u001b[39mNone\u001b[39;00m) \u001b[39m==\u001b[39m \u001b[39mbool\u001b[39m:\n",
            "File \u001b[0;32m~/.local/lib/python3.10/site-packages/pandas/core/indexes/base.py:6114\u001b[0m, in \u001b[0;36mIndex._get_indexer_strict\u001b[0;34m(self, key, axis_name)\u001b[0m\n\u001b[1;32m   6111\u001b[0m \u001b[39melse\u001b[39;00m:\n\u001b[1;32m   6112\u001b[0m     keyarr, indexer, new_indexer \u001b[39m=\u001b[39m \u001b[39mself\u001b[39m\u001b[39m.\u001b[39m_reindex_non_unique(keyarr)\n\u001b[0;32m-> 6114\u001b[0m \u001b[39mself\u001b[39;49m\u001b[39m.\u001b[39;49m_raise_if_missing(keyarr, indexer, axis_name)\n\u001b[1;32m   6116\u001b[0m keyarr \u001b[39m=\u001b[39m \u001b[39mself\u001b[39m\u001b[39m.\u001b[39mtake(indexer)\n\u001b[1;32m   6117\u001b[0m \u001b[39mif\u001b[39;00m \u001b[39misinstance\u001b[39m(key, Index):\n\u001b[1;32m   6118\u001b[0m     \u001b[39m# GH 42790 - Preserve name from an Index\u001b[39;00m\n",
            "File \u001b[0;32m~/.local/lib/python3.10/site-packages/pandas/core/indexes/base.py:6178\u001b[0m, in \u001b[0;36mIndex._raise_if_missing\u001b[0;34m(self, key, indexer, axis_name)\u001b[0m\n\u001b[1;32m   6175\u001b[0m     \u001b[39mraise\u001b[39;00m \u001b[39mKeyError\u001b[39;00m(\u001b[39mf\u001b[39m\u001b[39m\"\u001b[39m\u001b[39mNone of [\u001b[39m\u001b[39m{\u001b[39;00mkey\u001b[39m}\u001b[39;00m\u001b[39m] are in the [\u001b[39m\u001b[39m{\u001b[39;00maxis_name\u001b[39m}\u001b[39;00m\u001b[39m]\u001b[39m\u001b[39m\"\u001b[39m)\n\u001b[1;32m   6177\u001b[0m not_found \u001b[39m=\u001b[39m \u001b[39mlist\u001b[39m(ensure_index(key)[missing_mask\u001b[39m.\u001b[39mnonzero()[\u001b[39m0\u001b[39m]]\u001b[39m.\u001b[39munique())\n\u001b[0;32m-> 6178\u001b[0m \u001b[39mraise\u001b[39;00m \u001b[39mKeyError\u001b[39;00m(\u001b[39mf\u001b[39m\u001b[39m\"\u001b[39m\u001b[39m{\u001b[39;00mnot_found\u001b[39m}\u001b[39;00m\u001b[39m not in index\u001b[39m\u001b[39m\"\u001b[39m)\n",
            "\u001b[0;31mKeyError\u001b[0m: \"['Date', 'EURSTOXX50'] not in index\""
          ]
        }
      ],
      "source": [
        "symbols = ['S&P 500', 'EURSTOXX50']\n",
        "\n",
        "random.seed(1000)\n",
        "\n",
        "ts = TimeSeries(dfindices, symbols)"
      ]
    },
    {
      "cell_type": "code",
      "execution_count": 8,
      "metadata": {},
      "outputs": [
        {
          "name": "stdout",
          "output_type": "stream",
          "text": [
            "                S&P 500  Eurostoxx50 \n",
            "2013-10-24  1752.069946   3038.959961\n",
            "2013-10-25  1759.770020   3034.500000\n",
            "2013-10-28  1762.109985   3022.040039\n",
            "2013-10-29  1771.949951   3050.639893\n",
            "2013-10-30  1763.310059   3040.689941\n"
          ]
        }
      ],
      "source": [
        "print(dfindices.head())"
      ]
    },
    {
      "cell_type": "code",
      "execution_count": 9,
      "metadata": {},
      "outputs": [],
      "source": [
        "import numpy as np\n"
      ]
    },
    {
      "cell_type": "code",
      "execution_count": 12,
      "metadata": {},
      "outputs": [],
      "source": [
        "dfindices['Log_Return_SP500'] = np.log(dfindices['S&P 500'] / dfindices['S&P 500'].shift(1))\n"
      ]
    },
    {
      "cell_type": "code",
      "execution_count": 15,
      "metadata": {},
      "outputs": [
        {
          "name": "stdout",
          "output_type": "stream",
          "text": [
            "                S&P 500  Eurostoxx50   Log_Return_SP500\n",
            "2013-10-24  1752.069946   3038.959961               NaN\n",
            "2013-10-25  1759.770020   3034.500000          0.004385\n",
            "2013-10-28  1762.109985   3022.040039          0.001329\n",
            "2013-10-29  1771.949951   3050.639893          0.005569\n",
            "2013-10-30  1763.310059   3040.689941         -0.004888\n"
          ]
        }
      ],
      "source": [
        "print(dfindices.head())"
      ]
    },
    {
      "cell_type": "code",
      "execution_count": 18,
      "metadata": {},
      "outputs": [],
      "source": [
        "dfindices['Log_Return_Eurostoxx50'] = np.log(dfindices['Eurostoxx50 '] / dfindices['Eurostoxx50 '].shift(1))\n"
      ]
    },
    {
      "cell_type": "code",
      "execution_count": 19,
      "metadata": {},
      "outputs": [],
      "source": [
        "dfindices = dfindices.dropna()\n"
      ]
    },
    {
      "cell_type": "code",
      "execution_count": 20,
      "metadata": {},
      "outputs": [
        {
          "name": "stdout",
          "output_type": "stream",
          "text": [
            "                S&P 500  Eurostoxx50   Log_Return_SP500  \\\n",
            "2013-10-25  1759.770020   3034.500000          0.004385   \n",
            "2013-10-28  1762.109985   3022.040039          0.001329   \n",
            "2013-10-29  1771.949951   3050.639893          0.005569   \n",
            "2013-10-30  1763.310059   3040.689941         -0.004888   \n",
            "2013-10-31  1756.540039   3067.949951         -0.003847   \n",
            "\n",
            "            Log_Return_Eurostoxx50  \n",
            "2013-10-25               -0.001469  \n",
            "2013-10-28               -0.004115  \n",
            "2013-10-29                0.009419  \n",
            "2013-10-30               -0.003267  \n",
            "2013-10-31                0.008925  \n"
          ]
        }
      ],
      "source": [
        "print(dfindices.head())"
      ]
    }
  ],
  "metadata": {
    "colab": {
      "provenance": []
    },
    "kernelspec": {
      "display_name": "Python 3",
      "name": "python3"
    },
    "language_info": {
      "codemirror_mode": {
        "name": "ipython",
        "version": 3
      },
      "file_extension": ".py",
      "mimetype": "text/x-python",
      "name": "python",
      "nbconvert_exporter": "python",
      "pygments_lexer": "ipython3",
      "version": "3.10.8"
    }
  },
  "nbformat": 4,
  "nbformat_minor": 0
}
