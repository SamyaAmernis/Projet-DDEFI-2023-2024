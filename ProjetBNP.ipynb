{
  "cells": [
    {
      "cell_type": "code",
      "execution_count": 12,
      "metadata": {
        "colab": {
          "base_uri": "https://localhost:8080/"
        },
        "id": "4ybcyoT0Hmdc",
        "outputId": "ef7772af-4a20-4ec5-be00-f3760181e083"
      },
      "outputs": [
        {
          "name": "stdout",
          "output_type": "stream",
          "text": [
            "fatal: destination path 'Projet-DDEFI-2023-2024' already exists and is not an empty directory.\n"
          ]
        }
      ],
      "source": [
        "!git clone https://github.com/SamyaAmernis/Projet-DDEFI-2023-2024.git"
      ]
    },
    {
      "cell_type": "code",
      "execution_count": 13,
      "metadata": {
        "colab": {
          "base_uri": "https://localhost:8080/"
        },
        "id": "LAtm7lXG0664",
        "outputId": "216be668-a44e-4a22-e78f-b9f52cc3d4a9"
      },
      "outputs": [
        {
          "name": "stdout",
          "output_type": "stream",
          "text": [
            "'Courbe de taux 2023 $.csv'  'Taux Euro.csv'\n",
            " Main.py\t\t     'Taux de change euro dollar.csv'\n",
            " Projet-DDEFI-2023-2024      'actions Eurostoxx50.csv'\n"
          ]
        }
      ],
      "source": [
        "!ls"
      ]
    },
    {
      "cell_type": "code",
      "execution_count": 14,
      "metadata": {
        "colab": {
          "base_uri": "https://localhost:8080/"
        },
        "id": "kcZ6b4LV2oqS",
        "outputId": "a1963f36-125f-4c5a-b27f-6790eabe70b5"
      },
      "outputs": [
        {
          "name": "stdout",
          "output_type": "stream",
          "text": [
            "/workspaces/Projet-DDEFI-2023-2024/Projet-DDEFI-2023-2024/Projet-DDEFI-2023-2024/Projet-DDEFI-2023-2024\n"
          ]
        }
      ],
      "source": [
        "cd Projet-DDEFI-2023-2024/"
      ]
    },
    {
      "cell_type": "code",
      "execution_count": 15,
      "metadata": {
        "colab": {
          "base_uri": "https://localhost:8080/"
        },
        "id": "_gFHclmr3GQs",
        "outputId": "ceaf5d87-935e-475b-c6ed-ddd0b0bd557a"
      },
      "outputs": [
        {
          "name": "stdout",
          "output_type": "stream",
          "text": [
            "'Courbe de taux 2023 $.csv'  'Taux de change euro dollar.csv'\n",
            " Main.py\t\t     'actions Eurostoxx50.csv'\n",
            "'Taux Euro.csv'\n"
          ]
        }
      ],
      "source": [
        "!ls"
      ]
    },
    {
      "cell_type": "code",
      "execution_count": 18,
      "metadata": {
        "id": "uUqdz3fE34oT"
      },
      "outputs": [
        {
          "name": "stdout",
          "output_type": "stream",
          "text": [
            "shell-init: error retrieving current directory: getcwd: cannot access parent directories: No such file or directory\n"
          ]
        }
      ],
      "source": [
        "!ls"
      ]
    },
    {
      "cell_type": "code",
      "execution_count": 29,
      "metadata": {},
      "outputs": [
        {
          "name": "stdout",
          "output_type": "stream",
          "text": [
            "                                  Open         High          Low        Close  \\\n",
            "Date                                                                            \n",
            "2013-10-24 00:00:00-04:00  1747.479980  1753.939941  1745.500000  1752.069946   \n",
            "2013-10-25 00:00:00-04:00  1756.010010  1759.819946  1752.449951  1759.770020   \n",
            "2013-10-28 00:00:00-04:00  1759.420044  1764.989990  1757.670044  1762.109985   \n",
            "2013-10-29 00:00:00-04:00  1762.930054  1772.089966  1762.930054  1771.949951   \n",
            "2013-10-30 00:00:00-04:00  1772.270020  1775.219971  1757.239990  1763.310059   \n",
            "...                                ...          ...          ...          ...   \n",
            "2023-10-17 00:00:00-04:00  4345.229980  4393.569824  4337.540039  4373.200195   \n",
            "2023-10-18 00:00:00-04:00  4357.350098  4364.200195  4303.839844  4314.600098   \n",
            "2023-10-19 00:00:00-04:00  4321.359863  4339.540039  4269.689941  4278.000000   \n",
            "2023-10-20 00:00:00-04:00  4273.850098  4276.560059  4223.029785  4224.160156   \n",
            "2023-10-23 00:00:00-04:00  4210.399902  4255.839844  4189.220215  4217.040039   \n",
            "\n",
            "                               Volume  Dividends  Stock Splits  \n",
            "Date                                                            \n",
            "2013-10-24 00:00:00-04:00  3671700000        0.0           0.0  \n",
            "2013-10-25 00:00:00-04:00  3175720000        0.0           0.0  \n",
            "2013-10-28 00:00:00-04:00  3282300000        0.0           0.0  \n",
            "2013-10-29 00:00:00-04:00  3358460000        0.0           0.0  \n",
            "2013-10-30 00:00:00-04:00  3523040000        0.0           0.0  \n",
            "...                               ...        ...           ...  \n",
            "2023-10-17 00:00:00-04:00  3794850000        0.0           0.0  \n",
            "2023-10-18 00:00:00-04:00  3686030000        0.0           0.0  \n",
            "2023-10-19 00:00:00-04:00  3969730000        0.0           0.0  \n",
            "2023-10-20 00:00:00-04:00  4004030000        0.0           0.0  \n",
            "2023-10-23 00:00:00-04:00  2454581000        0.0           0.0  \n",
            "\n",
            "[2516 rows x 7 columns]\n"
          ]
        }
      ],
      "source": [
        "import yfinance as yf\n",
        "\n",
        "sp500 = yf.Ticker(\"^GSPC\")\n",
        "sp500_data = sp500.history(period=\"10y\")\n",
        "\n",
        "print(sp500_data)\n"
      ]
    },
    {
      "cell_type": "code",
      "execution_count": 31,
      "metadata": {},
      "outputs": [
        {
          "data": {
            "text/plain": [
              "17612"
            ]
          },
          "execution_count": 31,
          "metadata": {},
          "output_type": "execute_result"
        }
      ],
      "source": [
        "sp500_data.size"
      ]
    },
    {
      "cell_type": "code",
      "execution_count": null,
      "metadata": {},
      "outputs": [],
      "source": []
    }
  ],
  "metadata": {
    "colab": {
      "provenance": []
    },
    "kernelspec": {
      "display_name": "Python 3",
      "name": "python3"
    },
    "language_info": {
      "codemirror_mode": {
        "name": "ipython",
        "version": 3
      },
      "file_extension": ".py",
      "mimetype": "text/x-python",
      "name": "python",
      "nbconvert_exporter": "python",
      "pygments_lexer": "ipython3",
      "version": "3.10.8"
    }
  },
  "nbformat": 4,
  "nbformat_minor": 0
}
