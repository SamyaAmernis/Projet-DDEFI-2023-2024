{
  "cells": [
    {
      "cell_type": "code",
      "execution_count": 29,
      "metadata": {},
      "outputs": [
        {
          "name": "stdout",
          "output_type": "stream",
          "text": [
            "                                  Open         High          Low        Close  \\\n",
            "Date                                                                            \n",
            "2013-10-24 00:00:00-04:00  1747.479980  1753.939941  1745.500000  1752.069946   \n",
            "2013-10-25 00:00:00-04:00  1756.010010  1759.819946  1752.449951  1759.770020   \n",
            "2013-10-28 00:00:00-04:00  1759.420044  1764.989990  1757.670044  1762.109985   \n",
            "2013-10-29 00:00:00-04:00  1762.930054  1772.089966  1762.930054  1771.949951   \n",
            "2013-10-30 00:00:00-04:00  1772.270020  1775.219971  1757.239990  1763.310059   \n",
            "...                                ...          ...          ...          ...   \n",
            "2023-10-18 00:00:00-04:00  4357.350098  4364.200195  4303.839844  4314.600098   \n",
            "2023-10-19 00:00:00-04:00  4321.359863  4339.540039  4269.689941  4278.000000   \n",
            "2023-10-20 00:00:00-04:00  4273.850098  4276.560059  4223.029785  4224.160156   \n",
            "2023-10-23 00:00:00-04:00  4210.399902  4255.839844  4189.220215  4217.040039   \n",
            "2023-10-24 00:00:00-04:00  4235.790039  4258.109863  4235.790039  4258.009766   \n",
            "\n",
            "                               Volume  Dividends  Stock Splits  \n",
            "Date                                                            \n",
            "2013-10-24 00:00:00-04:00  3671700000        0.0           0.0  \n",
            "2013-10-25 00:00:00-04:00  3175720000        0.0           0.0  \n",
            "2013-10-28 00:00:00-04:00  3282300000        0.0           0.0  \n",
            "2013-10-29 00:00:00-04:00  3358460000        0.0           0.0  \n",
            "2013-10-30 00:00:00-04:00  3523040000        0.0           0.0  \n",
            "...                               ...        ...           ...  \n",
            "2023-10-18 00:00:00-04:00  3686030000        0.0           0.0  \n",
            "2023-10-19 00:00:00-04:00  3969730000        0.0           0.0  \n",
            "2023-10-20 00:00:00-04:00  4004030000        0.0           0.0  \n",
            "2023-10-23 00:00:00-04:00  3776100000        0.0           0.0  \n",
            "2023-10-24 00:00:00-04:00   581999035        0.0           0.0  \n",
            "\n",
            "[2517 rows x 7 columns]\n"
          ]
        }
      ],
      "source": [
        "import yfinance as yf\n",
        "\n",
        "sp500 = yf.Ticker(\"^GSPC\")\n",
        "sp500_data = sp500.history(period=\"10y\")\n",
        "\n",
        "print(sp500_data)\n"
      ]
    },
    {
      "cell_type": "code",
      "execution_count": 30,
      "metadata": {},
      "outputs": [
        {
          "data": {
            "text/plain": [
              "17619"
            ]
          },
          "execution_count": 30,
          "metadata": {},
          "output_type": "execute_result"
        }
      ],
      "source": [
        "sp500_data.size"
      ]
    },
    {
      "cell_type": "code",
      "execution_count": 31,
      "metadata": {},
      "outputs": [
        {
          "data": {
            "text/plain": [
              "17619"
            ]
          },
          "execution_count": 31,
          "metadata": {},
          "output_type": "execute_result"
        }
      ],
      "source": [
        "sp500_data.size"
      ]
    },
    {
      "cell_type": "code",
      "execution_count": 32,
      "metadata": {},
      "outputs": [],
      "source": [
        "import yfinance as yf\n",
        "import pandas as pd"
      ]
    },
    {
      "cell_type": "code",
      "execution_count": 33,
      "metadata": {},
      "outputs": [
        {
          "name": "stdout",
          "output_type": "stream",
          "text": [
            "                   Open         High          Low        Close    Adj Close  \\\n",
            "Date                                                                          \n",
            "2013-10-24  1747.479980  1753.939941  1745.500000  1752.069946  1752.069946   \n",
            "2013-10-25  1756.010010  1759.819946  1752.449951  1759.770020  1759.770020   \n",
            "2013-10-28  1759.420044  1764.989990  1757.670044  1762.109985  1762.109985   \n",
            "2013-10-29  1762.930054  1772.089966  1762.930054  1771.949951  1771.949951   \n",
            "2013-10-30  1772.270020  1775.219971  1757.239990  1763.310059  1763.310059   \n",
            "\n",
            "                Volume  \n",
            "Date                    \n",
            "2013-10-24  3671700000  \n",
            "2013-10-25  3175720000  \n",
            "2013-10-28  3282300000  \n",
            "2013-10-29  3358460000  \n",
            "2013-10-30  3523040000  \n"
          ]
        },
        {
          "data": {
            "text/plain": [
              "15096"
            ]
          },
          "execution_count": 33,
          "metadata": {},
          "output_type": "execute_result"
        }
      ],
      "source": [
        "\n",
        "sp500_data = yf.download('^GSPC', start='2013-10-24', end='2023-10-24', progress=False)\n",
        "print(sp500_data.head())\n",
        "sp500_data.size"
      ]
    },
    {
      "cell_type": "code",
      "execution_count": 34,
      "metadata": {},
      "outputs": [
        {
          "name": "stdout",
          "output_type": "stream",
          "text": [
            "                S&P 500\n",
            "2013-10-24  1752.069946\n",
            "2013-10-25  1759.770020\n",
            "2013-10-28  1762.109985\n",
            "2013-10-29  1771.949951\n",
            "2013-10-30  1763.310059\n",
            "...                 ...\n",
            "2023-10-17  4373.200195\n",
            "2023-10-18  4314.600098\n",
            "2023-10-19  4278.000000\n",
            "2023-10-20  4224.160156\n",
            "2023-10-23  4217.040039\n",
            "\n",
            "[2516 rows x 1 columns]\n"
          ]
        }
      ],
      "source": [
        "\n",
        "normalized_data = sp500_data['Close']\n",
        "\n",
        "normalized_data = normalized_data.rename('S&P 500')\n",
        "\n",
        "normalized_dfSP = pd.DataFrame(normalized_data)\n",
        "\n",
        "normalized_dfSP.index = normalized_dfSP.index.date\n",
        "\n",
        "print(normalized_dfSP)\n",
        "\n",
        "\n",
        "\n",
        "\n"
      ]
    },
    {
      "cell_type": "code",
      "execution_count": 35,
      "metadata": {},
      "outputs": [
        {
          "name": "stdout",
          "output_type": "stream",
          "text": [
            "                   Open         High          Low        Close    Adj Close  \\\n",
            "Date                                                                          \n",
            "2013-10-24  3024.689941  3038.959961  3022.280029  3038.959961  3038.959961   \n",
            "2013-10-25  3027.840088  3043.840088  3021.010010  3034.500000  3034.500000   \n",
            "2013-10-28  3041.159912  3045.139893  3009.800049  3022.040039  3022.040039   \n",
            "2013-10-29  3019.649902  3050.739990  3017.729980  3050.639893  3050.639893   \n",
            "2013-10-30  3049.090088  3073.879883  3035.020020  3040.689941  3040.689941   \n",
            "\n",
            "              Volume  \n",
            "Date                  \n",
            "2013-10-24  53819900  \n",
            "2013-10-25  49404800  \n",
            "2013-10-28  51393200  \n",
            "2013-10-29  59850600  \n",
            "2013-10-30  60923400  \n"
          ]
        },
        {
          "data": {
            "text/plain": [
              "15054"
            ]
          },
          "execution_count": 35,
          "metadata": {},
          "output_type": "execute_result"
        }
      ],
      "source": [
        "Eurostoxx50_data = yf.download('^STOXX50E', start='2013-10-24', end='2023-10-24', progress=False)\n",
        "print(Eurostoxx50_data.head())\n",
        "Eurostoxx50_data.size"
      ]
    },
    {
      "cell_type": "code",
      "execution_count": 36,
      "metadata": {},
      "outputs": [
        {
          "name": "stdout",
          "output_type": "stream",
          "text": [
            "            Eurostoxx50 \n",
            "2013-10-24   3038.959961\n",
            "2013-10-25   3034.500000\n",
            "2013-10-28   3022.040039\n",
            "2013-10-29   3050.639893\n",
            "2013-10-30   3040.689941\n",
            "...                  ...\n",
            "2023-10-17   4152.319824\n",
            "2023-10-18   4105.859863\n",
            "2023-10-19   4090.330078\n",
            "2023-10-20   4024.679932\n",
            "2023-10-23   4041.750000\n",
            "\n",
            "[2509 rows x 1 columns]\n"
          ]
        }
      ],
      "source": [
        "normalized_data2 = Eurostoxx50_data['Close']\n",
        "\n",
        "normalized_data2 = normalized_data2.rename('Eurostoxx50 ')\n",
        "\n",
        "normalized_dfEurostoxx50 = pd.DataFrame(normalized_data2)\n",
        "\n",
        "normalized_dfEurostoxx50.index = normalized_dfEurostoxx50.index.date\n",
        "\n",
        "print(normalized_dfEurostoxx50)"
      ]
    },
    {
      "cell_type": "code",
      "execution_count": 37,
      "metadata": {},
      "outputs": [
        {
          "name": "stdout",
          "output_type": "stream",
          "text": [
            "                S&P 500  Eurostoxx50 \n",
            "2013-10-24  1752.069946   3038.959961\n",
            "2013-10-25  1759.770020   3034.500000\n",
            "2013-10-28  1762.109985   3022.040039\n",
            "2013-10-29  1771.949951   3050.639893\n",
            "2013-10-30  1763.310059   3040.689941\n",
            "...                 ...           ...\n",
            "2023-10-17  4373.200195   4152.319824\n",
            "2023-10-18  4314.600098   4105.859863\n",
            "2023-10-19  4278.000000   4090.330078\n",
            "2023-10-20  4224.160156   4024.679932\n",
            "2023-10-23  4217.040039   4041.750000\n",
            "\n",
            "[2449 rows x 2 columns]\n"
          ]
        }
      ],
      "source": [
        "dfindices = normalized_dfSP.merge(normalized_dfEurostoxx50, left_index=True, right_index=True)\n",
        "print(dfindices)"
      ]
    }
  ],
  "metadata": {
    "colab": {
      "provenance": []
    },
    "kernelspec": {
      "display_name": "Python 3",
      "name": "python3"
    },
    "language_info": {
      "codemirror_mode": {
        "name": "ipython",
        "version": 3
      },
      "file_extension": ".py",
      "mimetype": "text/x-python",
      "name": "python",
      "nbconvert_exporter": "python",
      "pygments_lexer": "ipython3",
      "version": "3.10.8"
    }
  },
  "nbformat": 4,
  "nbformat_minor": 0
}
