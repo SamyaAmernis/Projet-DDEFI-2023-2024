{
  "cells": [
    {
      "cell_type": "markdown",
      "metadata": {},
      "source": [
        "**Importation of libraries**"
      ]
    },
    {
      "cell_type": "code",
      "execution_count": 1,
      "metadata": {},
      "outputs": [],
      "source": [
        "import yfinance as yf\n",
        "import pandas as pd\n",
        "import numpy as np\n",
        "\n"
      ]
    },
    {
      "cell_type": "markdown",
      "metadata": {},
      "source": [
        "**Importation of Yield Curve Euro**"
      ]
    },
    {
      "cell_type": "code",
      "execution_count": 2,
      "metadata": {},
      "outputs": [
        {
          "ename": "HTTPError",
          "evalue": "404 Client Error:  for url: https://data-api.ecb.europa.eu/service/data/YC/B.U2.EUR.4F.G_N_A.SV_C_YM.SR_1Y+SR_3Y+SR_5Y+SR_10Y+SR_20Y+SR_30Y?lastNObservations=600&detail=dat",
          "output_type": "error",
          "traceback": [
            "\u001b[0;31m---------------------------------------------------------------------------\u001b[0m",
            "\u001b[0;31mHTTPError\u001b[0m                                 Traceback (most recent call last)",
            "\u001b[1;32m/workspaces/Projet-DDEFI-2023-2024/ProjetBNP.ipynb Cellule 4\u001b[0m line \u001b[0;36m1\n\u001b[1;32m     <a href='vscode-notebook-cell://codespaces%2Bubiquitous-engine-7vv955r56qg6f4pq/workspaces/Projet-DDEFI-2023-2024/ProjetBNP.ipynb#W3sdnNjb2RlLXJlbW90ZQ%3D%3D?line=15'>16</a>\u001b[0m url \u001b[39m=\u001b[39m \u001b[39mf\u001b[39m\u001b[39m\"\u001b[39m\u001b[39mhttps://sdw-wsrest.ecb.europa.eu/service/data/\u001b[39m\u001b[39m{\u001b[39;00mDATAFLOW\u001b[39m}\u001b[39;00m\u001b[39m/\u001b[39m\u001b[39m{\u001b[39;00mFREQ\u001b[39m}\u001b[39;00m\u001b[39m.\u001b[39m\u001b[39m{\u001b[39;00mREF_AREA\u001b[39m}\u001b[39;00m\u001b[39m.\u001b[39m\u001b[39m{\u001b[39;00mCURRENCY\u001b[39m}\u001b[39;00m\u001b[39m.\u001b[39m\u001b[39m{\u001b[39;00mPROVIDER_FM\u001b[39m}\u001b[39;00m\u001b[39m.\u001b[39m\u001b[39m{\u001b[39;00mINSTRUMENT_FM\u001b[39m}\u001b[39;00m\u001b[39m.\u001b[39m\u001b[39m{\u001b[39;00mPROVIDER_FM_ID\u001b[39m}\u001b[39;00m\u001b[39m.\u001b[39m\u001b[39m{\u001b[39;00mDATA_TYPE_FM\u001b[39m}\u001b[39;00m\u001b[39m?\u001b[39m\u001b[39m{\u001b[39;00mPARAMETERS\u001b[39m}\u001b[39;00m\u001b[39m\"\u001b[39m\n\u001b[1;32m     <a href='vscode-notebook-cell://codespaces%2Bubiquitous-engine-7vv955r56qg6f4pq/workspaces/Projet-DDEFI-2023-2024/ProjetBNP.ipynb#W3sdnNjb2RlLXJlbW90ZQ%3D%3D?line=17'>18</a>\u001b[0m response \u001b[39m=\u001b[39m requests\u001b[39m.\u001b[39mget(url, headers\u001b[39m=\u001b[39m{\u001b[39m'\u001b[39m\u001b[39mAccept\u001b[39m\u001b[39m'\u001b[39m: \u001b[39m'\u001b[39m\u001b[39mtext/csv\u001b[39m\u001b[39m'\u001b[39m})\n\u001b[0;32m---> <a href='vscode-notebook-cell://codespaces%2Bubiquitous-engine-7vv955r56qg6f4pq/workspaces/Projet-DDEFI-2023-2024/ProjetBNP.ipynb#W3sdnNjb2RlLXJlbW90ZQ%3D%3D?line=18'>19</a>\u001b[0m response\u001b[39m.\u001b[39;49mraise_for_status()\n\u001b[1;32m     <a href='vscode-notebook-cell://codespaces%2Bubiquitous-engine-7vv955r56qg6f4pq/workspaces/Projet-DDEFI-2023-2024/ProjetBNP.ipynb#W3sdnNjb2RlLXJlbW90ZQ%3D%3D?line=19'>20</a>\u001b[0m df \u001b[39m=\u001b[39m pd\u001b[39m.\u001b[39mread_csv(io\u001b[39m.\u001b[39mStringIO(response\u001b[39m.\u001b[39mtext))\n\u001b[1;32m     <a href='vscode-notebook-cell://codespaces%2Bubiquitous-engine-7vv955r56qg6f4pq/workspaces/Projet-DDEFI-2023-2024/ProjetBNP.ipynb#W3sdnNjb2RlLXJlbW90ZQ%3D%3D?line=20'>21</a>\u001b[0m df\u001b[39m.\u001b[39mloc[:, \u001b[39m\"\u001b[39m\u001b[39mKEY\u001b[39m\u001b[39m\"\u001b[39m] \u001b[39m=\u001b[39m df\u001b[39m.\u001b[39mloc[:, \u001b[39m\"\u001b[39m\u001b[39mKEY\u001b[39m\u001b[39m\"\u001b[39m]\u001b[39m.\u001b[39mstr\u001b[39m.\u001b[39mslice(\u001b[39m29\u001b[39m)\n",
            "File \u001b[0;32m~/.local/lib/python3.10/site-packages/requests/models.py:1021\u001b[0m, in \u001b[0;36mResponse.raise_for_status\u001b[0;34m(self)\u001b[0m\n\u001b[1;32m   1016\u001b[0m     http_error_msg \u001b[39m=\u001b[39m (\n\u001b[1;32m   1017\u001b[0m         \u001b[39mf\u001b[39m\u001b[39m\"\u001b[39m\u001b[39m{\u001b[39;00m\u001b[39mself\u001b[39m\u001b[39m.\u001b[39mstatus_code\u001b[39m}\u001b[39;00m\u001b[39m Server Error: \u001b[39m\u001b[39m{\u001b[39;00mreason\u001b[39m}\u001b[39;00m\u001b[39m for url: \u001b[39m\u001b[39m{\u001b[39;00m\u001b[39mself\u001b[39m\u001b[39m.\u001b[39murl\u001b[39m}\u001b[39;00m\u001b[39m\"\u001b[39m\n\u001b[1;32m   1018\u001b[0m     )\n\u001b[1;32m   1020\u001b[0m \u001b[39mif\u001b[39;00m http_error_msg:\n\u001b[0;32m-> 1021\u001b[0m     \u001b[39mraise\u001b[39;00m HTTPError(http_error_msg, response\u001b[39m=\u001b[39m\u001b[39mself\u001b[39m)\n",
            "\u001b[0;31mHTTPError\u001b[0m: 404 Client Error:  for url: https://data-api.ecb.europa.eu/service/data/YC/B.U2.EUR.4F.G_N_A.SV_C_YM.SR_1Y+SR_3Y+SR_5Y+SR_10Y+SR_20Y+SR_30Y?lastNObservations=600&detail=dat"
          ]
        }
      ],
      "source": [
        "import requests\n",
        "import pandas as pd\n",
        "import io\n",
        "\n",
        "DATAFLOW = \"YC\"\n",
        "FREQ = \"B\"  # Daily - businessweek\n",
        "REF_AREA = \"U2\"  # Euro area (changing composition)\n",
        "CURRENCY = \"EUR\"\n",
        "PROVIDER_FM = \"4F\"  # ECB\n",
        "INSTRUMENT_FM = \"G_N_A\"  # Government bond, nominal, all issuers whose rating is triple A\n",
        "PROVIDER_FM_ID = \"SV_C_YM\"  # Svensson model - continuous compounding - yield error minimisation\n",
        "DATA_TYPE_FM = \"SR_1Y+SR_3Y+SR_5Y+SR_10Y+SR_20Y+SR_30Y\"\n",
        "\n",
        "N_OBS = 600\n",
        "PARAMETERS = f\"lastNObservations={N_OBS}&detail=dat\"\n",
        "url = f\"https://sdw-wsrest.ecb.europa.eu/service/data/{DATAFLOW}/{FREQ}.{REF_AREA}.{CURRENCY}.{PROVIDER_FM}.{INSTRUMENT_FM}.{PROVIDER_FM_ID}.{DATA_TYPE_FM}?{PARAMETERS}\"\n",
        "\n",
        "response = requests.get(url, headers={'Accept': 'text/csv'})\n",
        "response.raise_for_status()\n",
        "df = pd.read_csv(io.StringIO(response.text))\n",
        "df.loc[:, \"KEY\"] = df.loc[:, \"KEY\"].str.slice(29)\n",
        "df = df.set_index(\"TIME_PERIOD\")\n",
        "df.index = pd.to_datetime(df.index)\n",
        "df = df.loc[:, [\"KEY\", \"OBS_VALUE\"]]\n",
        "grouped = df.groupby(df.KEY)\n",
        "series_lis\n"
      ]
    },
    {
      "cell_type": "code",
      "execution_count": 3,
      "metadata": {},
      "outputs": [
        {
          "name": "stdout",
          "output_type": "stream",
          "text": [
            "Index(['KEY', 'FREQ', 'REF_AREA', 'CURRENCY', 'PROVIDER_FM', 'INSTRUMENT_FM',\n",
            "       'PROVIDER_FM_ID', 'DATA_TYPE_FM', 'TIME_PERIOD', 'OBS_VALUE',\n",
            "       'OBS_STATUS', 'OBS_CONF', 'OBS_PRE_BREAK', 'OBS_COM', 'TIME_FORMAT',\n",
            "       'BREAKS', 'COLLECTION', 'COMPILING_ORG', 'DISS_ORG', 'DOM_SER_IDS',\n",
            "       'FM_CONTRACT_TIME', 'FM_COUPON_RATE', 'FM_IDENTIFIER', 'FM_LOT_SIZE',\n",
            "       'FM_MATURITY', 'FM_OUTS_AMOUNT', 'FM_PUT_CALL', 'FM_STRIKE_PRICE',\n",
            "       'PUBL_MU', 'PUBL_PUBLIC', 'UNIT_INDEX_BASE', 'COMPILATION', 'COVERAGE',\n",
            "       'DECIMALS', 'SOURCE_AGENCY', 'SOURCE_PUB', 'TITLE', 'TITLE_COMPL',\n",
            "       'UNIT', 'UNIT_MULT'],\n",
            "      dtype='object')\n"
          ]
        },
        {
          "data": {
            "text/html": [
              "<div>\n",
              "<style scoped>\n",
              "    .dataframe tbody tr th:only-of-type {\n",
              "        vertical-align: middle;\n",
              "    }\n",
              "\n",
              "    .dataframe tbody tr th {\n",
              "        vertical-align: top;\n",
              "    }\n",
              "\n",
              "    .dataframe thead th {\n",
              "        text-align: right;\n",
              "    }\n",
              "</style>\n",
              "<table border=\"1\" class=\"dataframe\">\n",
              "  <thead>\n",
              "    <tr style=\"text-align: right;\">\n",
              "      <th></th>\n",
              "      <th>KEY</th>\n",
              "      <th>FREQ</th>\n",
              "      <th>REF_AREA</th>\n",
              "      <th>CURRENCY</th>\n",
              "      <th>PROVIDER_FM</th>\n",
              "      <th>INSTRUMENT_FM</th>\n",
              "      <th>PROVIDER_FM_ID</th>\n",
              "      <th>DATA_TYPE_FM</th>\n",
              "      <th>TIME_PERIOD</th>\n",
              "      <th>OBS_VALUE</th>\n",
              "      <th>...</th>\n",
              "      <th>UNIT_INDEX_BASE</th>\n",
              "      <th>COMPILATION</th>\n",
              "      <th>COVERAGE</th>\n",
              "      <th>DECIMALS</th>\n",
              "      <th>SOURCE_AGENCY</th>\n",
              "      <th>SOURCE_PUB</th>\n",
              "      <th>TITLE</th>\n",
              "      <th>TITLE_COMPL</th>\n",
              "      <th>UNIT</th>\n",
              "      <th>UNIT_MULT</th>\n",
              "    </tr>\n",
              "  </thead>\n",
              "  <tbody>\n",
              "    <tr>\n",
              "      <th>0</th>\n",
              "      <td>YC.B.U2.EUR.4F.G_N_A.SV_C_YM.BETA0</td>\n",
              "      <td>B</td>\n",
              "      <td>U2</td>\n",
              "      <td>EUR</td>\n",
              "      <td>4F</td>\n",
              "      <td>G_N_A</td>\n",
              "      <td>SV_C_YM</td>\n",
              "      <td>BETA0</td>\n",
              "      <td>2023-10-20</td>\n",
              "      <td>1.384810</td>\n",
              "      <td>...</td>\n",
              "      <td>NaN</td>\n",
              "      <td>NaN</td>\n",
              "      <td>NaN</td>\n",
              "      <td>6</td>\n",
              "      <td>NaN</td>\n",
              "      <td>NaN</td>\n",
              "      <td>Yield curve parameters, Beta 0 - Government bo...</td>\n",
              "      <td>Euro area (changing composition) - Government ...</td>\n",
              "      <td>PURE_NUMB</td>\n",
              "      <td>0</td>\n",
              "    </tr>\n",
              "    <tr>\n",
              "      <th>1</th>\n",
              "      <td>YC.B.U2.EUR.4F.G_N_A.SV_C_YM.BETA1</td>\n",
              "      <td>B</td>\n",
              "      <td>U2</td>\n",
              "      <td>EUR</td>\n",
              "      <td>4F</td>\n",
              "      <td>G_N_A</td>\n",
              "      <td>SV_C_YM</td>\n",
              "      <td>BETA1</td>\n",
              "      <td>2023-10-20</td>\n",
              "      <td>2.360237</td>\n",
              "      <td>...</td>\n",
              "      <td>NaN</td>\n",
              "      <td>NaN</td>\n",
              "      <td>NaN</td>\n",
              "      <td>6</td>\n",
              "      <td>NaN</td>\n",
              "      <td>NaN</td>\n",
              "      <td>Yield curve parameters, Beta 1 - Government bo...</td>\n",
              "      <td>Euro area (changing composition) - Government ...</td>\n",
              "      <td>PURE_NUMB</td>\n",
              "      <td>0</td>\n",
              "    </tr>\n",
              "    <tr>\n",
              "      <th>2</th>\n",
              "      <td>YC.B.U2.EUR.4F.G_N_A.SV_C_YM.BETA2</td>\n",
              "      <td>B</td>\n",
              "      <td>U2</td>\n",
              "      <td>EUR</td>\n",
              "      <td>4F</td>\n",
              "      <td>G_N_A</td>\n",
              "      <td>SV_C_YM</td>\n",
              "      <td>BETA2</td>\n",
              "      <td>2023-10-20</td>\n",
              "      <td>2.266249</td>\n",
              "      <td>...</td>\n",
              "      <td>NaN</td>\n",
              "      <td>NaN</td>\n",
              "      <td>NaN</td>\n",
              "      <td>6</td>\n",
              "      <td>NaN</td>\n",
              "      <td>NaN</td>\n",
              "      <td>Yield curve parameters, Beta 2 - Government bo...</td>\n",
              "      <td>Euro area (changing composition) - Government ...</td>\n",
              "      <td>PURE_NUMB</td>\n",
              "      <td>0</td>\n",
              "    </tr>\n",
              "    <tr>\n",
              "      <th>3</th>\n",
              "      <td>YC.B.U2.EUR.4F.G_N_A.SV_C_YM.BETA3</td>\n",
              "      <td>B</td>\n",
              "      <td>U2</td>\n",
              "      <td>EUR</td>\n",
              "      <td>4F</td>\n",
              "      <td>G_N_A</td>\n",
              "      <td>SV_C_YM</td>\n",
              "      <td>BETA3</td>\n",
              "      <td>2023-10-20</td>\n",
              "      <td>5.475638</td>\n",
              "      <td>...</td>\n",
              "      <td>NaN</td>\n",
              "      <td>NaN</td>\n",
              "      <td>NaN</td>\n",
              "      <td>6</td>\n",
              "      <td>NaN</td>\n",
              "      <td>NaN</td>\n",
              "      <td>Yield curve parameters, Beta 3 - Government bo...</td>\n",
              "      <td>Euro area (changing composition) - Government ...</td>\n",
              "      <td>PURE_NUMB</td>\n",
              "      <td>0</td>\n",
              "    </tr>\n",
              "    <tr>\n",
              "      <th>4</th>\n",
              "      <td>YC.B.U2.EUR.4F.G_N_A.SV_C_YM.IF_10M</td>\n",
              "      <td>B</td>\n",
              "      <td>U2</td>\n",
              "      <td>EUR</td>\n",
              "      <td>4F</td>\n",
              "      <td>G_N_A</td>\n",
              "      <td>SV_C_YM</td>\n",
              "      <td>IF_10M</td>\n",
              "      <td>2023-10-20</td>\n",
              "      <td>3.204561</td>\n",
              "      <td>...</td>\n",
              "      <td>NaN</td>\n",
              "      <td>NaN</td>\n",
              "      <td>NaN</td>\n",
              "      <td>6</td>\n",
              "      <td>NaN</td>\n",
              "      <td>NaN</td>\n",
              "      <td>Yield curve instantaneous forward rate, 10-mon...</td>\n",
              "      <td>Euro area (changing composition) - Government ...</td>\n",
              "      <td>PCPA</td>\n",
              "      <td>0</td>\n",
              "    </tr>\n",
              "  </tbody>\n",
              "</table>\n",
              "<p>5 rows × 40 columns</p>\n",
              "</div>"
            ],
            "text/plain": [
              "                                   KEY FREQ REF_AREA CURRENCY PROVIDER_FM  \\\n",
              "0   YC.B.U2.EUR.4F.G_N_A.SV_C_YM.BETA0    B       U2      EUR          4F   \n",
              "1   YC.B.U2.EUR.4F.G_N_A.SV_C_YM.BETA1    B       U2      EUR          4F   \n",
              "2   YC.B.U2.EUR.4F.G_N_A.SV_C_YM.BETA2    B       U2      EUR          4F   \n",
              "3   YC.B.U2.EUR.4F.G_N_A.SV_C_YM.BETA3    B       U2      EUR          4F   \n",
              "4  YC.B.U2.EUR.4F.G_N_A.SV_C_YM.IF_10M    B       U2      EUR          4F   \n",
              "\n",
              "  INSTRUMENT_FM PROVIDER_FM_ID DATA_TYPE_FM TIME_PERIOD  OBS_VALUE  ...  \\\n",
              "0         G_N_A        SV_C_YM        BETA0  2023-10-20   1.384810  ...   \n",
              "1         G_N_A        SV_C_YM        BETA1  2023-10-20   2.360237  ...   \n",
              "2         G_N_A        SV_C_YM        BETA2  2023-10-20   2.266249  ...   \n",
              "3         G_N_A        SV_C_YM        BETA3  2023-10-20   5.475638  ...   \n",
              "4         G_N_A        SV_C_YM       IF_10M  2023-10-20   3.204561  ...   \n",
              "\n",
              "  UNIT_INDEX_BASE COMPILATION  COVERAGE  DECIMALS SOURCE_AGENCY  SOURCE_PUB  \\\n",
              "0             NaN         NaN       NaN         6           NaN         NaN   \n",
              "1             NaN         NaN       NaN         6           NaN         NaN   \n",
              "2             NaN         NaN       NaN         6           NaN         NaN   \n",
              "3             NaN         NaN       NaN         6           NaN         NaN   \n",
              "4             NaN         NaN       NaN         6           NaN         NaN   \n",
              "\n",
              "                                               TITLE  \\\n",
              "0  Yield curve parameters, Beta 0 - Government bo...   \n",
              "1  Yield curve parameters, Beta 1 - Government bo...   \n",
              "2  Yield curve parameters, Beta 2 - Government bo...   \n",
              "3  Yield curve parameters, Beta 3 - Government bo...   \n",
              "4  Yield curve instantaneous forward rate, 10-mon...   \n",
              "\n",
              "                                         TITLE_COMPL       UNIT  UNIT_MULT  \n",
              "0  Euro area (changing composition) - Government ...  PURE_NUMB          0  \n",
              "1  Euro area (changing composition) - Government ...  PURE_NUMB          0  \n",
              "2  Euro area (changing composition) - Government ...  PURE_NUMB          0  \n",
              "3  Euro area (changing composition) - Government ...  PURE_NUMB          0  \n",
              "4  Euro area (changing composition) - Government ...       PCPA          0  \n",
              "\n",
              "[5 rows x 40 columns]"
            ]
          },
          "execution_count": 3,
          "metadata": {},
          "output_type": "execute_result"
        }
      ],
      "source": [
        "dftaux_Euro = pd.read_csv(filepath_or_buffer = './Taux Euro.csv',sep = ',')\n",
        "print(dftaux_Euro.columns)\n",
        "dftaux_Euro.head()\n",
        "\n"
      ]
    },
    {
      "cell_type": "markdown",
      "metadata": {},
      "source": [
        "**Importation of yield curve Dollar**"
      ]
    },
    {
      "cell_type": "code",
      "execution_count": 4,
      "metadata": {},
      "outputs": [
        {
          "data": {
            "text/html": [
              "<div>\n",
              "<style scoped>\n",
              "    .dataframe tbody tr th:only-of-type {\n",
              "        vertical-align: middle;\n",
              "    }\n",
              "\n",
              "    .dataframe tbody tr th {\n",
              "        vertical-align: top;\n",
              "    }\n",
              "\n",
              "    .dataframe thead th {\n",
              "        text-align: right;\n",
              "    }\n",
              "</style>\n",
              "<table border=\"1\" class=\"dataframe\">\n",
              "  <thead>\n",
              "    <tr style=\"text-align: right;\">\n",
              "      <th></th>\n",
              "      <th>Date</th>\n",
              "      <th>1 Mo</th>\n",
              "      <th>2 Mo</th>\n",
              "      <th>3 Mo</th>\n",
              "      <th>4 Mo</th>\n",
              "      <th>6 Mo</th>\n",
              "      <th>1 Yr</th>\n",
              "      <th>2 Yr</th>\n",
              "      <th>3 Yr</th>\n",
              "      <th>5 Yr</th>\n",
              "      <th>7 Yr</th>\n",
              "      <th>10 Yr</th>\n",
              "      <th>20 Yr</th>\n",
              "      <th>30 Yr</th>\n",
              "    </tr>\n",
              "  </thead>\n",
              "  <tbody>\n",
              "    <tr>\n",
              "      <th>0</th>\n",
              "      <td>10/20/2023</td>\n",
              "      <td>5.56</td>\n",
              "      <td>5.56</td>\n",
              "      <td>5.58</td>\n",
              "      <td>5.61</td>\n",
              "      <td>5.54</td>\n",
              "      <td>5.41</td>\n",
              "      <td>5.07</td>\n",
              "      <td>4.93</td>\n",
              "      <td>4.86</td>\n",
              "      <td>4.93</td>\n",
              "      <td>4.93</td>\n",
              "      <td>5.27</td>\n",
              "      <td>5.09</td>\n",
              "    </tr>\n",
              "    <tr>\n",
              "      <th>1</th>\n",
              "      <td>10/19/2023</td>\n",
              "      <td>5.58</td>\n",
              "      <td>5.57</td>\n",
              "      <td>5.60</td>\n",
              "      <td>5.62</td>\n",
              "      <td>5.56</td>\n",
              "      <td>5.44</td>\n",
              "      <td>5.14</td>\n",
              "      <td>5.01</td>\n",
              "      <td>4.95</td>\n",
              "      <td>5.00</td>\n",
              "      <td>4.98</td>\n",
              "      <td>5.30</td>\n",
              "      <td>5.11</td>\n",
              "    </tr>\n",
              "    <tr>\n",
              "      <th>2</th>\n",
              "      <td>10/18/2023</td>\n",
              "      <td>5.57</td>\n",
              "      <td>5.56</td>\n",
              "      <td>5.61</td>\n",
              "      <td>5.62</td>\n",
              "      <td>5.58</td>\n",
              "      <td>5.47</td>\n",
              "      <td>5.19</td>\n",
              "      <td>5.03</td>\n",
              "      <td>4.92</td>\n",
              "      <td>4.95</td>\n",
              "      <td>4.91</td>\n",
              "      <td>5.20</td>\n",
              "      <td>5.00</td>\n",
              "    </tr>\n",
              "    <tr>\n",
              "      <th>3</th>\n",
              "      <td>10/17/2023</td>\n",
              "      <td>5.58</td>\n",
              "      <td>5.58</td>\n",
              "      <td>5.62</td>\n",
              "      <td>5.64</td>\n",
              "      <td>5.60</td>\n",
              "      <td>5.48</td>\n",
              "      <td>5.19</td>\n",
              "      <td>5.01</td>\n",
              "      <td>4.86</td>\n",
              "      <td>4.88</td>\n",
              "      <td>4.83</td>\n",
              "      <td>5.14</td>\n",
              "      <td>4.94</td>\n",
              "    </tr>\n",
              "    <tr>\n",
              "      <th>4</th>\n",
              "      <td>10/16/2023</td>\n",
              "      <td>5.57</td>\n",
              "      <td>5.58</td>\n",
              "      <td>5.61</td>\n",
              "      <td>5.63</td>\n",
              "      <td>5.58</td>\n",
              "      <td>5.42</td>\n",
              "      <td>5.09</td>\n",
              "      <td>4.87</td>\n",
              "      <td>4.72</td>\n",
              "      <td>4.74</td>\n",
              "      <td>4.71</td>\n",
              "      <td>5.06</td>\n",
              "      <td>4.87</td>\n",
              "    </tr>\n",
              "  </tbody>\n",
              "</table>\n",
              "</div>"
            ],
            "text/plain": [
              "         Date  1 Mo  2 Mo  3 Mo  4 Mo  6 Mo  1 Yr  2 Yr  3 Yr  5 Yr  7 Yr  \\\n",
              "0  10/20/2023  5.56  5.56  5.58  5.61  5.54  5.41  5.07  4.93  4.86  4.93   \n",
              "1  10/19/2023  5.58  5.57  5.60  5.62  5.56  5.44  5.14  5.01  4.95  5.00   \n",
              "2  10/18/2023  5.57  5.56  5.61  5.62  5.58  5.47  5.19  5.03  4.92  4.95   \n",
              "3  10/17/2023  5.58  5.58  5.62  5.64  5.60  5.48  5.19  5.01  4.86  4.88   \n",
              "4  10/16/2023  5.57  5.58  5.61  5.63  5.58  5.42  5.09  4.87  4.72  4.74   \n",
              "\n",
              "   10 Yr  20 Yr  30 Yr  \n",
              "0   4.93   5.27   5.09  \n",
              "1   4.98   5.30   5.11  \n",
              "2   4.91   5.20   5.00  \n",
              "3   4.83   5.14   4.94  \n",
              "4   4.71   5.06   4.87  "
            ]
          },
          "execution_count": 4,
          "metadata": {},
          "output_type": "execute_result"
        }
      ],
      "source": [
        "dftaux_Dollar = pd.read_csv(filepath_or_buffer = './Courbe de taux 2023 $.csv',sep = ',')\n",
        "dftaux_Dollar.head()"
      ]
    },
    {
      "cell_type": "code",
      "execution_count": 5,
      "metadata": {},
      "outputs": [
        {
          "name": "stdout",
          "output_type": "stream",
          "text": [
            "           Date  1 Mo  3 Mo  1 Yr  5 Yr  10 Yr\n",
            "0    10/20/2023  5.56  5.58  5.41  4.86   4.93\n",
            "1    10/19/2023  5.58  5.60  5.44  4.95   4.98\n",
            "2    10/18/2023  5.57  5.61  5.47  4.92   4.91\n",
            "3    10/17/2023  5.58  5.62  5.48  4.86   4.83\n",
            "4    10/16/2023  5.57  5.61  5.42  4.72   4.71\n",
            "..          ...   ...   ...   ...   ...    ...\n",
            "197  01/09/2023  4.37  4.70  4.69  3.66   3.53\n",
            "198  01/06/2023  4.32  4.67  4.71  3.69   3.55\n",
            "199  01/05/2023  4.30  4.66  4.78  3.90   3.71\n",
            "200  01/04/2023  4.20  4.55  4.71  3.85   3.69\n",
            "201  01/03/2023  4.17  4.53  4.72  3.94   3.79\n",
            "\n",
            "[202 rows x 6 columns]\n"
          ]
        }
      ],
      "source": [
        "dftaux_dollar = dftaux_Dollar.loc[:, ['Date', '1 Mo', '3 Mo', '1 Yr', '5 Yr', '10 Yr']]\n",
        "print(dftaux_dollar)"
      ]
    },
    {
      "cell_type": "code",
      "execution_count": 6,
      "metadata": {},
      "outputs": [],
      "source": [
        "for i in ['1 Mo', '3 Mo', '1 Yr', '5 Yr', '10 Yr']:\n",
        "    dftaux_dollar[f'Return_YC_Euro_{i}'] = dftaux_dollar[i] - dftaux_dollar[i].shift(1)\n",
        "dftaux_dollar.dropna(inplace=True)\n"
      ]
    },
    {
      "cell_type": "code",
      "execution_count": 7,
      "metadata": {},
      "outputs": [
        {
          "name": "stdout",
          "output_type": "stream",
          "text": [
            "           Date  1 Mo  3 Mo  1 Yr  5 Yr  10 Yr  Return_YC_Euro_1 Mo  \\\n",
            "1    10/19/2023  5.58  5.60  5.44  4.95   4.98                 0.02   \n",
            "2    10/18/2023  5.57  5.61  5.47  4.92   4.91                -0.01   \n",
            "3    10/17/2023  5.58  5.62  5.48  4.86   4.83                 0.01   \n",
            "4    10/16/2023  5.57  5.61  5.42  4.72   4.71                -0.01   \n",
            "5    10/13/2023  5.60  5.62  5.41  4.65   4.63                 0.03   \n",
            "..          ...   ...   ...   ...   ...    ...                  ...   \n",
            "197  01/09/2023  4.37  4.70  4.69  3.66   3.53                -0.04   \n",
            "198  01/06/2023  4.32  4.67  4.71  3.69   3.55                -0.05   \n",
            "199  01/05/2023  4.30  4.66  4.78  3.90   3.71                -0.02   \n",
            "200  01/04/2023  4.20  4.55  4.71  3.85   3.69                -0.10   \n",
            "201  01/03/2023  4.17  4.53  4.72  3.94   3.79                -0.03   \n",
            "\n",
            "     Return_YC_Euro_3 Mo  Return_YC_Euro_1 Yr  Return_YC_Euro_5 Yr  \\\n",
            "1                   0.02                 0.03                 0.09   \n",
            "2                   0.01                 0.03                -0.03   \n",
            "3                   0.01                 0.01                -0.06   \n",
            "4                  -0.01                -0.06                -0.14   \n",
            "5                   0.01                -0.01                -0.07   \n",
            "..                   ...                  ...                  ...   \n",
            "197                -0.03                -0.05                -0.06   \n",
            "198                -0.03                 0.02                 0.03   \n",
            "199                -0.01                 0.07                 0.21   \n",
            "200                -0.11                -0.07                -0.05   \n",
            "201                -0.02                 0.01                 0.09   \n",
            "\n",
            "     Return_YC_Euro_10 Yr  \n",
            "1                    0.05  \n",
            "2                   -0.07  \n",
            "3                   -0.08  \n",
            "4                   -0.12  \n",
            "5                   -0.08  \n",
            "..                    ...  \n",
            "197                 -0.08  \n",
            "198                  0.02  \n",
            "199                  0.16  \n",
            "200                 -0.02  \n",
            "201                  0.10  \n",
            "\n",
            "[201 rows x 11 columns]\n"
          ]
        }
      ],
      "source": [
        "print(dftaux_dollar)"
      ]
    },
    {
      "cell_type": "markdown",
      "metadata": {},
      "source": [
        "**Importation of the Euro/Dollar exchange rate**"
      ]
    },
    {
      "cell_type": "code",
      "execution_count": null,
      "metadata": {},
      "outputs": [
        {
          "data": {
            "text/html": [
              "<div>\n",
              "<style scoped>\n",
              "    .dataframe tbody tr th:only-of-type {\n",
              "        vertical-align: middle;\n",
              "    }\n",
              "\n",
              "    .dataframe tbody tr th {\n",
              "        vertical-align: top;\n",
              "    }\n",
              "\n",
              "    .dataframe thead th {\n",
              "        text-align: right;\n",
              "    }\n",
              "</style>\n",
              "<table border=\"1\" class=\"dataframe\">\n",
              "  <thead>\n",
              "    <tr style=\"text-align: right;\">\n",
              "      <th></th>\n",
              "      <th>_TIME_PERIOD</th>\n",
              "      <th>_OBS_VALUE</th>\n",
              "      <th>_OBS_STATUS</th>\n",
              "      <th>_OBS_CONF</th>\n",
              "    </tr>\n",
              "  </thead>\n",
              "  <tbody>\n",
              "    <tr>\n",
              "      <th>6345</th>\n",
              "      <td>2023-10-10</td>\n",
              "      <td>1.0582</td>\n",
              "      <td>A</td>\n",
              "      <td>F</td>\n",
              "    </tr>\n",
              "    <tr>\n",
              "      <th>6346</th>\n",
              "      <td>2023-10-11</td>\n",
              "      <td>1.0604</td>\n",
              "      <td>A</td>\n",
              "      <td>F</td>\n",
              "    </tr>\n",
              "    <tr>\n",
              "      <th>6347</th>\n",
              "      <td>2023-10-12</td>\n",
              "      <td>1.0619</td>\n",
              "      <td>A</td>\n",
              "      <td>F</td>\n",
              "    </tr>\n",
              "    <tr>\n",
              "      <th>6348</th>\n",
              "      <td>2023-10-13</td>\n",
              "      <td>1.0524</td>\n",
              "      <td>A</td>\n",
              "      <td>F</td>\n",
              "    </tr>\n",
              "    <tr>\n",
              "      <th>6349</th>\n",
              "      <td>2023-10-16</td>\n",
              "      <td>1.0538</td>\n",
              "      <td>A</td>\n",
              "      <td>F</td>\n",
              "    </tr>\n",
              "    <tr>\n",
              "      <th>6350</th>\n",
              "      <td>2023-10-17</td>\n",
              "      <td>1.0569</td>\n",
              "      <td>A</td>\n",
              "      <td>F</td>\n",
              "    </tr>\n",
              "    <tr>\n",
              "      <th>6351</th>\n",
              "      <td>2023-10-18</td>\n",
              "      <td>1.0565</td>\n",
              "      <td>A</td>\n",
              "      <td>F</td>\n",
              "    </tr>\n",
              "    <tr>\n",
              "      <th>6352</th>\n",
              "      <td>2023-10-19</td>\n",
              "      <td>1.0558</td>\n",
              "      <td>A</td>\n",
              "      <td>F</td>\n",
              "    </tr>\n",
              "    <tr>\n",
              "      <th>6353</th>\n",
              "      <td>2023-10-20</td>\n",
              "      <td>1.0591</td>\n",
              "      <td>A</td>\n",
              "      <td>F</td>\n",
              "    </tr>\n",
              "    <tr>\n",
              "      <th>6354</th>\n",
              "      <td>2023-10-23</td>\n",
              "      <td>1.0597</td>\n",
              "      <td>A</td>\n",
              "      <td>F</td>\n",
              "    </tr>\n",
              "  </tbody>\n",
              "</table>\n",
              "</div>"
            ],
            "text/plain": [
              "     _TIME_PERIOD  _OBS_VALUE _OBS_STATUS _OBS_CONF\n",
              "6345   2023-10-10      1.0582           A         F\n",
              "6346   2023-10-11      1.0604           A         F\n",
              "6347   2023-10-12      1.0619           A         F\n",
              "6348   2023-10-13      1.0524           A         F\n",
              "6349   2023-10-16      1.0538           A         F\n",
              "6350   2023-10-17      1.0569           A         F\n",
              "6351   2023-10-18      1.0565           A         F\n",
              "6352   2023-10-19      1.0558           A         F\n",
              "6353   2023-10-20      1.0591           A         F\n",
              "6354   2023-10-23      1.0597           A         F"
            ]
          },
          "execution_count": 9,
          "metadata": {},
          "output_type": "execute_result"
        }
      ],
      "source": [
        "dftaux = pd.read_csv(filepath_or_buffer = './Taux de change euro dollar.csv',sep = ',')\n",
        "dftaux.tail(10)"
      ]
    },
    {
      "cell_type": "markdown",
      "metadata": {},
      "source": [
        "**Importation of stock indices from Yahoo Finance**"
      ]
    },
    {
      "cell_type": "markdown",
      "metadata": {},
      "source": [
        "S&P 500\n"
      ]
    },
    {
      "cell_type": "code",
      "execution_count": null,
      "metadata": {},
      "outputs": [
        {
          "name": "stdout",
          "output_type": "stream",
          "text": [
            "                   Open         High          Low        Close    Adj Close  \\\n",
            "Date                                                                          \n",
            "2013-10-24  1747.479980  1753.939941  1745.500000  1752.069946  1752.069946   \n",
            "2013-10-25  1756.010010  1759.819946  1752.449951  1759.770020  1759.770020   \n",
            "2013-10-28  1759.420044  1764.989990  1757.670044  1762.109985  1762.109985   \n",
            "2013-10-29  1762.930054  1772.089966  1762.930054  1771.949951  1771.949951   \n",
            "2013-10-30  1772.270020  1775.219971  1757.239990  1763.310059  1763.310059   \n",
            "\n",
            "                Volume  \n",
            "Date                    \n",
            "2013-10-24  3671700000  \n",
            "2013-10-25  3175720000  \n",
            "2013-10-28  3282300000  \n",
            "2013-10-29  3358460000  \n",
            "2013-10-30  3523040000  \n"
          ]
        },
        {
          "data": {
            "text/plain": [
              "15096"
            ]
          },
          "execution_count": 10,
          "metadata": {},
          "output_type": "execute_result"
        }
      ],
      "source": [
        "\n",
        "sp500_data = yf.download('^GSPC', start='2013-10-24', end='2023-10-24', progress=False)\n",
        "print(sp500_data.head())\n",
        "sp500_data.size"
      ]
    },
    {
      "cell_type": "markdown",
      "metadata": {},
      "source": [
        "Eurostoxx50"
      ]
    },
    {
      "cell_type": "code",
      "execution_count": null,
      "metadata": {},
      "outputs": [
        {
          "name": "stdout",
          "output_type": "stream",
          "text": [
            "                   Open         High          Low        Close    Adj Close  \\\n",
            "Date                                                                          \n",
            "2013-10-24  3024.689941  3038.959961  3022.280029  3038.959961  3038.959961   \n",
            "2013-10-25  3027.840088  3043.840088  3021.010010  3034.500000  3034.500000   \n",
            "2013-10-28  3041.159912  3045.139893  3009.800049  3022.040039  3022.040039   \n",
            "2013-10-29  3019.649902  3050.739990  3017.729980  3050.639893  3050.639893   \n",
            "2013-10-30  3049.090088  3073.879883  3035.020020  3040.689941  3040.689941   \n",
            "\n",
            "              Volume  \n",
            "Date                  \n",
            "2013-10-24  53819900  \n",
            "2013-10-25  49404800  \n",
            "2013-10-28  51393200  \n",
            "2013-10-29  59850600  \n",
            "2013-10-30  60923400  \n"
          ]
        },
        {
          "data": {
            "text/plain": [
              "15054"
            ]
          },
          "execution_count": 11,
          "metadata": {},
          "output_type": "execute_result"
        }
      ],
      "source": [
        "Eurostoxx50_data = yf.download('^STOXX50E', start='2013-10-24', end='2023-10-24', progress=False)\n",
        "print(Eurostoxx50_data.head())\n",
        "Eurostoxx50_data.size"
      ]
    },
    {
      "cell_type": "markdown",
      "metadata": {},
      "source": [
        "***Data Cleaning***"
      ]
    },
    {
      "cell_type": "code",
      "execution_count": null,
      "metadata": {},
      "outputs": [
        {
          "name": "stdout",
          "output_type": "stream",
          "text": [
            "Index(['Open', 'High', 'Low', 'Close', 'Adj Close', 'Volume'], dtype='object')\n"
          ]
        }
      ],
      "source": [
        "print(sp500_data.columns)\n"
      ]
    },
    {
      "cell_type": "code",
      "execution_count": null,
      "metadata": {},
      "outputs": [],
      "source": [
        "sp500_data.reset_index(inplace=True)  # Réinitialise l'index pour obtenir la colonne \"Date\"\n",
        "sp500_data = sp500_data[[\"Date\", \"Adj Close\"]]\n",
        "sp500_data = sp500_data.rename(columns={'Adj Close': 'sp500'})\n"
      ]
    },
    {
      "cell_type": "code",
      "execution_count": null,
      "metadata": {},
      "outputs": [],
      "source": [
        "Eurostoxx50_data.reset_index(inplace=True)  # Réinitialise l'index pour obtenir la colonne \"Date\"\n",
        "Eurostoxx50_data = Eurostoxx50_data[[\"Date\", \"Adj Close\"]]\n",
        "Eurostoxx50_data = Eurostoxx50_data.rename(columns={'Adj Close': 'Eurostoxx50'})\n"
      ]
    },
    {
      "cell_type": "code",
      "execution_count": null,
      "metadata": {},
      "outputs": [
        {
          "name": "stdout",
          "output_type": "stream",
          "text": [
            "Index(['KEY', 'FREQ', 'REF_AREA', 'CURRENCY', 'PROVIDER_FM', 'INSTRUMENT_FM',\n",
            "       'PROVIDER_FM_ID', 'DATA_TYPE_FM', 'TIME_PERIOD', 'OBS_VALUE',\n",
            "       'OBS_STATUS', 'OBS_CONF', 'OBS_PRE_BREAK', 'OBS_COM', 'TIME_FORMAT',\n",
            "       'BREAKS', 'COLLECTION', 'COMPILING_ORG', 'DISS_ORG', 'DOM_SER_IDS',\n",
            "       'FM_CONTRACT_TIME', 'FM_COUPON_RATE', 'FM_IDENTIFIER', 'FM_LOT_SIZE',\n",
            "       'FM_MATURITY', 'FM_OUTS_AMOUNT', 'FM_PUT_CALL', 'FM_STRIKE_PRICE',\n",
            "       'PUBL_MU', 'PUBL_PUBLIC', 'UNIT_INDEX_BASE', 'COMPILATION', 'COVERAGE',\n",
            "       'DECIMALS', 'SOURCE_AGENCY', 'SOURCE_PUB', 'TITLE', 'TITLE_COMPL',\n",
            "       'UNIT', 'UNIT_MULT'],\n",
            "      dtype='object')\n"
          ]
        }
      ],
      "source": [
        "print(dftaux_Euro.columns)"
      ]
    },
    {
      "cell_type": "code",
      "execution_count": null,
      "metadata": {},
      "outputs": [],
      "source": [
        "dftaux_Euro = dftaux_Euro.rename(columns={'TIME_PERIOD': 'Date'})\n",
        "dftaux_Euro = dftaux_Euro.rename(columns={'OBS_VALUE': 'Taux_Euro'})\n",
        "dftaux_Euro = dftaux_Euro[['Date', 'Taux_Euro']]"
      ]
    },
    {
      "cell_type": "code",
      "execution_count": null,
      "metadata": {},
      "outputs": [
        {
          "name": "stdout",
          "output_type": "stream",
          "text": [
            "Index(['Date', 'Taux_Euro'], dtype='object')\n"
          ]
        }
      ],
      "source": [
        "print(dftaux_Euro.columns)"
      ]
    },
    {
      "cell_type": "code",
      "execution_count": null,
      "metadata": {},
      "outputs": [],
      "source": [
        "dftaux_Dollar = dftaux_Dollar.rename(columns={'TIME_PERIOD': 'Date'})\n",
        "dftaux_Dollar = dftaux_Dollar.rename(columns={'OBS_VALUE': 'Taux_Dollar'})\n",
        "dftaux_Dollar = dftaux_Dollar[['Date', '1 Mo', '3 Mo', '1 Yr', '3 Yr', '5 Yr']]\n"
      ]
    },
    {
      "cell_type": "code",
      "execution_count": null,
      "metadata": {},
      "outputs": [
        {
          "name": "stdout",
          "output_type": "stream",
          "text": [
            "         Date  1 Mo  3 Mo  1 Yr  3 Yr  5 Yr\n",
            "0  10/20/2023  5.56  5.58  5.41  4.93  4.86\n",
            "1  10/19/2023  5.58  5.60  5.44  5.01  4.95\n",
            "2  10/18/2023  5.57  5.61  5.47  5.03  4.92\n",
            "3  10/17/2023  5.58  5.62  5.48  5.01  4.86\n",
            "4  10/16/2023  5.57  5.61  5.42  4.87  4.72\n",
            "5  10/13/2023  5.60  5.62  5.41  4.80  4.65\n",
            "6  10/12/2023  5.61  5.63  5.43  4.82  4.69\n",
            "7  10/11/2023  5.58  5.61  5.38  4.73  4.59\n",
            "8  10/10/2023  5.60  5.61  5.37  4.74  4.62\n",
            "9  10/06/2023  5.59  5.63  5.43  4.87  4.75\n"
          ]
        }
      ],
      "source": [
        "print(dftaux_Dollar.head(10))\n"
      ]
    },
    {
      "cell_type": "code",
      "execution_count": null,
      "metadata": {},
      "outputs": [
        {
          "name": "stdout",
          "output_type": "stream",
          "text": [
            "Index(['_TIME_PERIOD', '_OBS_VALUE', '_OBS_STATUS', '_OBS_CONF'], dtype='object')\n"
          ]
        }
      ],
      "source": [
        "print(dftaux.columns)"
      ]
    },
    {
      "cell_type": "code",
      "execution_count": null,
      "metadata": {},
      "outputs": [],
      "source": [
        "dftaux = dftaux.rename(columns={'_TIME_PERIOD': 'Date'})\n",
        "dftaux = dftaux.rename(columns={'_OBS_VALUE': 'TauxdeChange'})\n",
        "dftaux = dftaux[['Date', 'TauxdeChange']]\n"
      ]
    },
    {
      "cell_type": "code",
      "execution_count": null,
      "metadata": {},
      "outputs": [],
      "source": [
        "dftaux['Date'] = pd.to_datetime(dftaux['Date'])\n",
        "dftaux = pd.merge(dftaux, sp500_data, on='Date', how='inner')\n",
        "dftaux = pd.merge(dftaux, Eurostoxx50_data, on='Date', how='inner')\n"
      ]
    },
    {
      "cell_type": "code",
      "execution_count": null,
      "metadata": {},
      "outputs": [
        {
          "data": {
            "text/html": [
              "<div>\n",
              "<style scoped>\n",
              "    .dataframe tbody tr th:only-of-type {\n",
              "        vertical-align: middle;\n",
              "    }\n",
              "\n",
              "    .dataframe tbody tr th {\n",
              "        vertical-align: top;\n",
              "    }\n",
              "\n",
              "    .dataframe thead th {\n",
              "        text-align: right;\n",
              "    }\n",
              "</style>\n",
              "<table border=\"1\" class=\"dataframe\">\n",
              "  <thead>\n",
              "    <tr style=\"text-align: right;\">\n",
              "      <th></th>\n",
              "      <th>Date</th>\n",
              "      <th>TauxdeChange</th>\n",
              "      <th>sp500</th>\n",
              "      <th>Eurostoxx50</th>\n",
              "    </tr>\n",
              "  </thead>\n",
              "  <tbody>\n",
              "    <tr>\n",
              "      <th>2439</th>\n",
              "      <td>2023-10-10</td>\n",
              "      <td>1.0582</td>\n",
              "      <td>4358.240234</td>\n",
              "      <td>4205.229980</td>\n",
              "    </tr>\n",
              "    <tr>\n",
              "      <th>2440</th>\n",
              "      <td>2023-10-11</td>\n",
              "      <td>1.0604</td>\n",
              "      <td>4376.950195</td>\n",
              "      <td>4200.799805</td>\n",
              "    </tr>\n",
              "    <tr>\n",
              "      <th>2441</th>\n",
              "      <td>2023-10-12</td>\n",
              "      <td>1.0619</td>\n",
              "      <td>4349.609863</td>\n",
              "      <td>4198.229980</td>\n",
              "    </tr>\n",
              "    <tr>\n",
              "      <th>2442</th>\n",
              "      <td>2023-10-13</td>\n",
              "      <td>1.0524</td>\n",
              "      <td>4327.779785</td>\n",
              "      <td>4136.120117</td>\n",
              "    </tr>\n",
              "    <tr>\n",
              "      <th>2443</th>\n",
              "      <td>2023-10-16</td>\n",
              "      <td>1.0538</td>\n",
              "      <td>4373.629883</td>\n",
              "      <td>4149.859863</td>\n",
              "    </tr>\n",
              "    <tr>\n",
              "      <th>2444</th>\n",
              "      <td>2023-10-17</td>\n",
              "      <td>1.0569</td>\n",
              "      <td>4373.200195</td>\n",
              "      <td>4152.319824</td>\n",
              "    </tr>\n",
              "    <tr>\n",
              "      <th>2445</th>\n",
              "      <td>2023-10-18</td>\n",
              "      <td>1.0565</td>\n",
              "      <td>4314.600098</td>\n",
              "      <td>4105.859863</td>\n",
              "    </tr>\n",
              "    <tr>\n",
              "      <th>2446</th>\n",
              "      <td>2023-10-19</td>\n",
              "      <td>1.0558</td>\n",
              "      <td>4278.000000</td>\n",
              "      <td>4090.330078</td>\n",
              "    </tr>\n",
              "    <tr>\n",
              "      <th>2447</th>\n",
              "      <td>2023-10-20</td>\n",
              "      <td>1.0591</td>\n",
              "      <td>4224.160156</td>\n",
              "      <td>4024.679932</td>\n",
              "    </tr>\n",
              "    <tr>\n",
              "      <th>2448</th>\n",
              "      <td>2023-10-23</td>\n",
              "      <td>1.0597</td>\n",
              "      <td>4217.040039</td>\n",
              "      <td>4041.750000</td>\n",
              "    </tr>\n",
              "  </tbody>\n",
              "</table>\n",
              "</div>"
            ],
            "text/plain": [
              "           Date  TauxdeChange        sp500  Eurostoxx50\n",
              "2439 2023-10-10        1.0582  4358.240234  4205.229980\n",
              "2440 2023-10-11        1.0604  4376.950195  4200.799805\n",
              "2441 2023-10-12        1.0619  4349.609863  4198.229980\n",
              "2442 2023-10-13        1.0524  4327.779785  4136.120117\n",
              "2443 2023-10-16        1.0538  4373.629883  4149.859863\n",
              "2444 2023-10-17        1.0569  4373.200195  4152.319824\n",
              "2445 2023-10-18        1.0565  4314.600098  4105.859863\n",
              "2446 2023-10-19        1.0558  4278.000000  4090.330078\n",
              "2447 2023-10-20        1.0591  4224.160156  4024.679932\n",
              "2448 2023-10-23        1.0597  4217.040039  4041.750000"
            ]
          },
          "execution_count": 23,
          "metadata": {},
          "output_type": "execute_result"
        }
      ],
      "source": [
        "dftaux.tail(10)"
      ]
    },
    {
      "cell_type": "markdown",
      "metadata": {},
      "source": [
        "**Data normalization and dataframe creation**"
      ]
    },
    {
      "cell_type": "code",
      "execution_count": null,
      "metadata": {},
      "outputs": [
        {
          "name": "stdout",
          "output_type": "stream",
          "text": [
            "            TauxdeChange        sp500  Eurostoxx50\n",
            "Date                                              \n",
            "2013-10-24        1.3805  1752.069946  3038.959961\n",
            "2013-10-25        1.3777  1759.770020  3034.500000\n",
            "2013-10-28        1.3784  1762.109985  3022.040039\n",
            "2013-10-29        1.3768  1771.949951  3050.639893\n",
            "2013-10-30        1.3755  1763.310059  3040.689941\n",
            "...                  ...          ...          ...\n",
            "2023-10-17        1.0569  4373.200195  4152.319824\n",
            "2023-10-18        1.0565  4314.600098  4105.859863\n",
            "2023-10-19        1.0558  4278.000000  4090.330078\n",
            "2023-10-20        1.0591  4224.160156  4024.679932\n",
            "2023-10-23        1.0597  4217.040039  4041.750000\n",
            "\n",
            "[2449 rows x 3 columns]\n"
          ]
        }
      ],
      "source": [
        "dftaux['Date'] = pd.to_datetime(dftaux['Date'])\n",
        "dftaux.set_index('Date', inplace=True)\n",
        "print(dftaux)"
      ]
    },
    {
      "cell_type": "markdown",
      "metadata": {},
      "source": [
        "**Yields calculation**"
      ]
    },
    {
      "cell_type": "code",
      "execution_count": null,
      "metadata": {},
      "outputs": [],
      "source": [
        "import numpy as np\n"
      ]
    },
    {
      "cell_type": "code",
      "execution_count": null,
      "metadata": {},
      "outputs": [],
      "source": [
        "dftaux['Log_Return_SP500'] = np.log(dftaux['sp500'] / dftaux['sp500'].shift(1))\n"
      ]
    },
    {
      "cell_type": "code",
      "execution_count": null,
      "metadata": {},
      "outputs": [
        {
          "name": "stdout",
          "output_type": "stream",
          "text": [
            "            TauxdeChange        sp500  Eurostoxx50  Log_Return_SP500\n",
            "Date                                                                \n",
            "2013-10-24        1.3805  1752.069946  3038.959961               NaN\n",
            "2013-10-25        1.3777  1759.770020  3034.500000          0.004385\n",
            "2013-10-28        1.3784  1762.109985  3022.040039          0.001329\n",
            "2013-10-29        1.3768  1771.949951  3050.639893          0.005569\n",
            "2013-10-30        1.3755  1763.310059  3040.689941         -0.004888\n"
          ]
        }
      ],
      "source": [
        "print(dftaux.head())"
      ]
    },
    {
      "cell_type": "code",
      "execution_count": null,
      "metadata": {},
      "outputs": [],
      "source": [
        "dftaux['Log_Return_Eurostoxx50'] = np.log(dftaux['Eurostoxx50'] / dftaux['Eurostoxx50'].shift(1))\n"
      ]
    },
    {
      "cell_type": "code",
      "execution_count": null,
      "metadata": {},
      "outputs": [],
      "source": [
        "dftaux = dftaux.dropna()"
      ]
    },
    {
      "cell_type": "code",
      "execution_count": null,
      "metadata": {},
      "outputs": [
        {
          "name": "stdout",
          "output_type": "stream",
          "text": [
            "            TauxdeChange        sp500  Eurostoxx50  Log_Return_SP500  \\\n",
            "Date                                                                   \n",
            "2013-10-25        1.3777  1759.770020  3034.500000          0.004385   \n",
            "2013-10-28        1.3784  1762.109985  3022.040039          0.001329   \n",
            "2013-10-29        1.3768  1771.949951  3050.639893          0.005569   \n",
            "2013-10-30        1.3755  1763.310059  3040.689941         -0.004888   \n",
            "2013-10-31        1.3641  1756.540039  3067.949951         -0.003847   \n",
            "\n",
            "            Log_Return_Eurostoxx50  \n",
            "Date                                \n",
            "2013-10-25               -0.001469  \n",
            "2013-10-28               -0.004115  \n",
            "2013-10-29                0.009419  \n",
            "2013-10-30               -0.003267  \n",
            "2013-10-31                0.008925  \n"
          ]
        }
      ],
      "source": [
        "#print(dfindices.head())\n",
        "print(dftaux.head())"
      ]
    },
    {
      "cell_type": "code",
      "execution_count": null,
      "metadata": {},
      "outputs": [],
      "source": [
        "dftaux['Log_Return_TauxdeChange'] = np.log(dftaux['TauxdeChange'] / dftaux['TauxdeChange'].shift(1))\n"
      ]
    },
    {
      "cell_type": "code",
      "execution_count": null,
      "metadata": {},
      "outputs": [],
      "source": [
        "dftaux = dftaux.dropna()"
      ]
    },
    {
      "cell_type": "code",
      "execution_count": null,
      "metadata": {},
      "outputs": [
        {
          "name": "stdout",
          "output_type": "stream",
          "text": [
            "            TauxdeChange        sp500  Eurostoxx50  Log_Return_SP500  \\\n",
            "Date                                                                   \n",
            "2013-10-28        1.3784  1762.109985  3022.040039          0.001329   \n",
            "2013-10-29        1.3768  1771.949951  3050.639893          0.005569   \n",
            "2013-10-30        1.3755  1763.310059  3040.689941         -0.004888   \n",
            "2013-10-31        1.3641  1756.540039  3067.949951         -0.003847   \n",
            "2013-11-01        1.3505  1761.640015  3052.139893          0.002899   \n",
            "\n",
            "            Log_Return_Eurostoxx50  Log_Return_TauxdeChange  \n",
            "Date                                                         \n",
            "2013-10-28               -0.004115                 0.000508  \n",
            "2013-10-29                0.009419                -0.001161  \n",
            "2013-10-30               -0.003267                -0.000945  \n",
            "2013-10-31                0.008925                -0.008322  \n",
            "2013-11-01               -0.005167                -0.010020  \n"
          ]
        }
      ],
      "source": [
        "print(dftaux.head())"
      ]
    },
    {
      "cell_type": "markdown",
      "metadata": {},
      "source": [
        "***Génération des scénarios avec la méthode de bootstrapping***"
      ]
    },
    {
      "cell_type": "code",
      "execution_count": null,
      "metadata": {},
      "outputs": [
        {
          "ename": "NameError",
          "evalue": "name 'dftaux' is not defined",
          "output_type": "error",
          "traceback": [
            "\u001b[0;31m---------------------------------------------------------------------------\u001b[0m",
            "\u001b[0;31mNameError\u001b[0m                                 Traceback (most recent call last)",
            "\u001b[1;32m/workspaces/Projet-DDEFI-2023-2024/ProjetBNP.ipynb Cellule 44\u001b[0m line \u001b[0;36m4\n\u001b[1;32m      <a href='vscode-notebook-cell://codespaces%2Bubiquitous-engine-7vv955r56qg6f4pq/workspaces/Projet-DDEFI-2023-2024/ProjetBNP.ipynb#X61sdnNjb2RlLXJlbW90ZQ%3D%3D?line=1'>2</a>\u001b[0m scenarios_bootstrap \u001b[39m=\u001b[39m []\n\u001b[1;32m      <a href='vscode-notebook-cell://codespaces%2Bubiquitous-engine-7vv955r56qg6f4pq/workspaces/Projet-DDEFI-2023-2024/ProjetBNP.ipynb#X61sdnNjb2RlLXJlbW90ZQ%3D%3D?line=2'>3</a>\u001b[0m \u001b[39mfor\u001b[39;00m i \u001b[39min\u001b[39;00m \u001b[39mrange\u001b[39m(nb_scenarios):\n\u001b[0;32m----> <a href='vscode-notebook-cell://codespaces%2Bubiquitous-engine-7vv955r56qg6f4pq/workspaces/Projet-DDEFI-2023-2024/ProjetBNP.ipynb#X61sdnNjb2RlLXJlbW90ZQ%3D%3D?line=3'>4</a>\u001b[0m     nv_scenario \u001b[39m=\u001b[39m np\u001b[39m.\u001b[39mrandom\u001b[39m.\u001b[39mchoice(dftaux[\u001b[39m'\u001b[39m\u001b[39mLog_Return_Eurostoxx50\u001b[39m\u001b[39m'\u001b[39m] , \u001b[39mlen\u001b[39m(dftaux) , replace\u001b[39m=\u001b[39m\u001b[39mTrue\u001b[39;00m)    \n\u001b[1;32m      <a href='vscode-notebook-cell://codespaces%2Bubiquitous-engine-7vv955r56qg6f4pq/workspaces/Projet-DDEFI-2023-2024/ProjetBNP.ipynb#X61sdnNjb2RlLXJlbW90ZQ%3D%3D?line=4'>5</a>\u001b[0m     scenarios_bootstrap\u001b[39m.\u001b[39mappend(nv_scenario)\n\u001b[1;32m      <a href='vscode-notebook-cell://codespaces%2Bubiquitous-engine-7vv955r56qg6f4pq/workspaces/Projet-DDEFI-2023-2024/ProjetBNP.ipynb#X61sdnNjb2RlLXJlbW90ZQ%3D%3D?line=5'>6</a>\u001b[0m \u001b[39mprint\u001b[39m(scenarios_bootstrap)\n",
            "\u001b[0;31mNameError\u001b[0m: name 'dftaux' is not defined"
          ]
        }
      ],
      "source": [
        "#Scénarios de l'eurostoxx50\n",
        "nb_scenarios = 1000\n",
        "scenarios_bootstrap_Eurostoxx50 = []\n",
        "for i in range(nb_scenarios):\n",
        "    nv_scenario = np.random.choice(dftaux['Log_Return_Eurostoxx50'] , len(dftaux) , replace=True)    \n",
        "    scenarios_bootstrap_Eurostoxx50.append(nv_scenario)\n",
        "print(scenarios_bootstrap_Eurostoxx50)\n",
        "\n",
        "scenarios_totaux=0\n",
        "for i in range(len(scenarios_bootstrap_Eurostoxx50)):\n",
        "    scenarios_totaux=scenarios_totaux+scenarios_bootstrap_Eurostoxx50[i]\n",
        "print(scenarios_totaux)\n",
        "\n",
        "#Scénarios du taux de change\n",
        "nb_scenarios = 1000\n",
        "scenarios_bootstrap_TauxdeChange = []\n",
        "for i in range(nb_scenarios):\n",
        "    nv_scenario = np.random.choice(dftaux['Log_Return_TauxdeChange'] , len(dftaux) , replace=True)    \n",
        "    scenarios_bootstrap_TauxdeChange.append(nv_scenario)\n",
        "print(scenarios_bootstrap_TauxdeChange)\n",
        "\n",
        "scenarios_totaux=0\n",
        "for i in range(len(scenarios_bootstrap_TauxdeChange)):\n",
        "    scenarios_totaux=scenarios_totaux+scenarios_bootstrap_TauxdeChange[i]\n",
        "print(scenarios_totaux)\n",
        "\n",
        "#Scénarios de l'indice SP500\n",
        "nb_scenarios = 1000\n",
        "scenarios_bootstrap_SP500 = []\n",
        "for i in range(nb_scenarios):\n",
        "    nv_scenario = np.random.choice(dftaux['Log_Return_TauxdeChange'] , len(dftaux) , replace=True)    \n",
        "    scenarios_bootstrap_SP500.append(nv_scenario)\n",
        "print(scenarios_bootstrap_SP500)\n",
        "\n",
        "scenarios_totaux=0\n",
        "for i in range(len(scenarios_bootstrap_SP500)):\n",
        "    scenarios_totaux=scenarios_totaux+scenarios_bootstrap_SP500[i]\n",
        "print(scenarios_totaux)\n"
      ]
    },
    {
      "cell_type": "markdown",
      "metadata": {},
      "source": [
        "***Swap pricing***"
      ]
    },
    {
      "cell_type": "code",
      "execution_count": null,
      "metadata": {},
      "outputs": [],
      "source": [
        "import xml.etree.ElementTree as ET\n",
        "\n",
        "# Charger le fichier XML\n",
        "xml_data = \"\"\"\n",
        "<instrumentlist xmlns=\"http://www.statpro.net/xml/structure/1.0\"><http://www.statpro.net/xml/structure/1.0%22%3e>\n",
        "  <!-- plain swap -->\n",
        "  <instrument>\n",
        "    <code>TEST0183</code>\n",
        "    <codetype>test-dp</codetype>\n",
        "    <description>Sample interest-rate swap</description>\n",
        "    <currency>EUR</currency>\n",
        "    <swap>\n",
        "      <counterpartycode>Foo</counterpartycode>\n",
        "      <fixedrateleg>\n",
        "        <side>Pay</side>\n",
        "        <startdate>2008-03-18</startdate>\n",
        "        <maturitydate>2018-03-17</maturitydate>\n",
        "        <settlementdays>2</settlementdays>\n",
        "        <calendar>TARGET</calendar>\n",
        "        <rollingconvention>Following</rollingconvention>\n",
        "        <frequency>1</frequency>\n",
        "        <adjusted>false</adjusted>\n",
        "        <daycount>30/360</daycount>\n",
        "        <notionals>100.0</notionals>\n",
        "        <couponrates>0.04</couponrates>\n",
        "      </fixedrateleg>\n",
        "      <floatingrateleg>\n",
        "        <side>Receive</side>\n",
        "        <startdate>2008-03-18</startdate>\n",
        "        <maturitydate>2018-03-17</maturitydate>\n",
        "        <settlementdays>2</settlementdays>\n",
        "        <calendar>TARGET</calendar>\n",
        "        <rollingconvention>ModifiedFollowing</rollingconvention>\n",
        "        <frequency>2</frequency>\n",
        "        <adjusted>true</adjusted>\n",
        "        <daycount>Act/360</daycount>\n",
        "        <notionals>100.0</notionals>\n",
        "        <referenceindex>EUR-Euribor-6-m</referenceindex>\n",
        "        <fixingdays>2</fixingdays>\n",
        "        <fixingtype>Advance</fixingtype>\n",
        "        <spreads>0.002</spreads>\n",
        "      </floatingrateleg>\n",
        "    </swap>\n",
        "  </instrument>\n",
        "</instrumentlist>\n",
        "\n",
        "\"\"\"\n",
        "\n"
      ]
    },
    {
      "cell_type": "code",
      "execution_count": null,
      "metadata": {},
      "outputs": [
        {
          "ename": "SyntaxError",
          "evalue": "'(' was never closed (20086824.py, line 16)",
          "output_type": "error",
          "traceback": [
            "\u001b[0;36m  Cell \u001b[0;32mIn[39], line 16\u001b[0;36m\u001b[0m\n\u001b[0;31m    floating_leg = ql.IborLeg([100.0], ql.Euribor(ql.Period(6, ql.Months), ql.YieldTermStructureHandle(ql.FlatForward(valuation_date, ql.QuoteHandle(ql.SimpleQuote(0.025)), ql.Actual360())))\u001b[0m\n\u001b[0m                             ^\u001b[0m\n\u001b[0;31mSyntaxError\u001b[0m\u001b[0;31m:\u001b[0m '(' was never closed\n"
          ]
        }
      ],
      "source": [
        "import QuantLib as ql\n",
        "\n",
        "# Dates\n",
        "valuation_date = ql.Date(2010, 1, 1)\n",
        "start_date = ql.Date(2008, 3, 18)\n",
        "end_date = ql.Date(2018, 3, 17)\n",
        "\n",
        "# Market data\n",
        "discount_curve = ql.YieldTermStructureHandle(ql.FlatForward(valuation_date, ql.QuoteHandle(ql.SimpleQuote(0.03)), ql.Actual360()))\n",
        "\n",
        "# Fixed Leg\n",
        "fixed_rate = 0.04\n",
        "fixed_leg = ql.FixedRateLeg(ql.Schedule(start_date, end_date, ql.Period(ql.Semiannual), ql.TARGET(), ql.ModifiedFollowing, ql.ModifiedFollowing, ql.DateGeneration.Backward, False), ql.Actual360(), [100.0], [fixed_rate])\n",
        "\n",
        "# Floating Leg\n",
        "floating_leg = ql.IborLeg([100.0], ql.Euribor(ql.Period(6, ql.Months), ql.YieldTermStructureHandle(ql.FlatForward(valuation_date, ql.QuoteHandle(ql.SimpleQuote(0.025)), ql.Actual360())))\n",
        "\n",
        "# Swap\n",
        "swap = ql.Swap(fixed_leg, floating_leg)\n",
        "swap.setPricingEngine(ql.DiscountingSwapEngine(discount_curve))\n",
        "\n",
        "# Calcul de la valeur du swap\n",
        "npv = swap.NPV()\n",
        "print(\"La valeur actuelle nette (NPV) du swap est :\", npv)"
      ]
    },
    {
      "cell_type": "code",
      "execution_count": null,
      "metadata": {},
      "outputs": [
        {
          "ename": "ParseError",
          "evalue": "not well-formed (invalid token): line 2, column 71 (<string>)",
          "output_type": "error",
          "traceback": [
            "Traceback \u001b[0;36m(most recent call last)\u001b[0m:\n",
            "\u001b[0m  File \u001b[1;32m~/.local/lib/python3.10/site-packages/IPython/core/interactiveshell.py:3526\u001b[0m in \u001b[1;35mrun_code\u001b[0m\n    exec(code_obj, self.user_global_ns, self.user_ns)\u001b[0m\n",
            "\u001b[0m  Cell \u001b[1;32mIn[28], line 1\u001b[0m\n    root = ET.fromstring(xml_data)\u001b[0m\n",
            "\u001b[0;36m  File \u001b[0;32m~/.python/current/lib/python3.10/xml/etree/ElementTree.py:1342\u001b[0;36m in \u001b[0;35mXML\u001b[0;36m\n\u001b[0;31m    parser.feed(text)\u001b[0;36m\n",
            "\u001b[0;36m  File \u001b[0;32m<string>\u001b[0;36m\u001b[0m\n\u001b[0;31mParseError\u001b[0m\u001b[0;31m:\u001b[0m not well-formed (invalid token): line 2, column 71\n"
          ]
        }
      ],
      "source": [
        "root = ET.fromstring(xml_data)\n"
      ]
    },
    {
      "cell_type": "code",
      "execution_count": null,
      "metadata": {},
      "outputs": [],
      "source": [
        "root = ET.fromstring(xml_data)\n",
        "\n",
        "# Accéder aux éléments du fichier XML\n",
        "code = root.find(\".//code\").text\n",
        "description = root.find(\".//description\").text\n",
        "currency = root.find(\".//currency\").text\n",
        "\n",
        "# Pour accéder aux détails de la jambe fixe et de la jambe variable, vous pouvez utiliser des boucles ou des recherches similaires.\n",
        "fixed_leg = root.find(\".//fixedrateleg\")\n",
        "floating_leg = root.find(\".//floatingrateleg\")\n",
        "\n",
        "# Accéder aux éléments des jambes fixe et variable\n",
        "fixed_start_date = fixed_leg.find(\".//startdate\").text\n",
        "fixed_maturity_date = fixed_leg.find(\".//maturitydate\").text\n",
        "# Vous pouvez faire de même pour les autres éléments.\n",
        "\n",
        "# Traiter les données selon vos besoins\n",
        "\n",
        "# Exemple : Imprimer certaines informations\n",
        "print(\"Code:\", code)\n",
        "print(\"Description:\", description)\n",
        "print(\"Currency:\", currency)\n",
        "print(\"Fixed Start Date:\", fixed_start_date)\n",
        "print(\"Fixed Maturity Date:\", fixed_maturity_date)"
      ]
    },
    {
      "cell_type": "code",
      "execution_count": null,
      "metadata": {},
      "outputs": [
        {
          "name": "stdout",
          "output_type": "stream",
          "text": [
            "La valeur actuelle nette du swap est : -0.66 EUR\n"
          ]
        }
      ],
      "source": [
        "from datetime import datetime, timedelta\n",
        "\n",
        "def fixed_leg(date_calc, maturity, coupon, freq, YC):\n",
        "    cashflows = []\n",
        "\n",
        "    current_date = date_calc\n",
        "    while current_date <= maturity:\n",
        "        fixed_cashflow = YC(current_date) * coupon / freq\n",
        "        cashflows.append({\n",
        "            'date': current_date,\n",
        "            'cashflow': fixed_cashflow\n",
        "        })\n",
        "        current_date += timedelta(days=int(360 / freq))\n",
        "\n",
        "    return cashflows\n",
        "\n",
        "def float_rate(date_calc, date, maturity, YC):\n",
        "    # Calcul du taux forward entre date_calc et date\n",
        "    rate_date_calc = YC(date_calc)\n",
        "    rate_date = YC(date)\n",
        "    \n",
        "    # Vérifier si la différence entre les dates est non nulle\n",
        "    if (date - date_calc).days != 0:\n",
        "        # Supposons une interpolation linéaire pour simplifier\n",
        "        forward_rate = rate_date_calc + (rate_date - rate_date_calc) / ((date - date_calc).days / 360)\n",
        "        return forward_rate\n",
        "    else:\n",
        "        # Gérer le cas où la différence est nulle\n",
        "        return rate_date\n",
        "\n",
        "\n",
        "\n",
        "def float_leg(date_calc, maturity, float_spread, freq, YC):\n",
        "    cashflows = []\n",
        "\n",
        "    current_date = date_calc\n",
        "    while current_date <= maturity:\n",
        "        float_cashflow = YC(current_date) + float_spread / freq\n",
        "        cashflows.append({\n",
        "            'date': current_date,\n",
        "            'cashflow': float_cashflow\n",
        "        })\n",
        "        current_date += timedelta(days=int(360 / freq))\n",
        "\n",
        "    return cashflows\n",
        "\n",
        "def calculate_cashflows(fixed_leg, floating_leg):\n",
        "    cashflows = []\n",
        "\n",
        "    for fixed_cf, float_cf in zip(fixed_leg, floating_leg):\n",
        "        cashflows.append({\n",
        "            'date': fixed_cf['date'],\n",
        "            'fixed_leg_cashflow': fixed_cf['cashflow'],\n",
        "            'floating_leg_cashflow': float_cf['cashflow']\n",
        "        })\n",
        "\n",
        "    return cashflows\n",
        "\n",
        "def present_value(cashflows):\n",
        "    pv = 0\n",
        "    for cf in cashflows:\n",
        "        pv += cf['fixed_leg_cashflow'] - cf['floating_leg_cashflow']\n",
        "    return pv\n",
        "\n",
        "# Paramètres du swap\n",
        "date_calc = datetime.strptime(\"2008-03-18\", \"%Y-%m-%d\")\n",
        "maturity = datetime.strptime(\"2018-03-17\", \"%Y-%m-%d\")\n",
        "\n",
        "# Fonction de courbe des taux (yield curve)\n",
        "def yield_curve(date):\n",
        "    # Vous devrez remplacer cela par une logique réelle pour obtenir les taux du marché\n",
        "    # Pour cet exemple, je retourne simplement 0.03 pour toutes les dates\n",
        "    return 0.03\n",
        "\n",
        "# Calcul des flux de trésorerie pour la jambe fixe\n",
        "fixed_leg_cashflows = fixed_leg(date_calc, maturity, 0.04, 1, yield_curve)\n",
        "\n",
        "# Calcul des flux de trésorerie pour la jambe variable\n",
        "float_spread = 0.002\n",
        "float_leg_cashflows = float_leg(date_calc, maturity, float_spread, 2, yield_curve)\n",
        "\n",
        "# Calcul du taux variable pour chaque date de paiement\n",
        "float_rates = [float_rate(date_calc, cf['date'], maturity, yield_curve) for cf in float_leg_cashflows]\n",
        "\n",
        "# Ajout du taux variable aux flux de trésorerie de la jambe variable\n",
        "for i in range(len(float_leg_cashflows)):\n",
        "    float_leg_cashflows[i]['cashflow'] += float_rates[i]\n",
        "\n",
        "# Calcul des flux de trésorerie combinés\n",
        "cashflows = calculate_cashflows(fixed_leg_cashflows, float_leg_cashflows)\n",
        "\n",
        "# Calcul de la valeur actuelle nette (présent value)\n",
        "pv = present_value(cashflows)\n",
        "\n",
        "print(f\"La valeur actuelle nette du swap est : {pv:.2f} EUR\")\n"
      ]
    }
  ],
  "metadata": {
    "colab": {
      "provenance": []
    },
    "kernelspec": {
      "display_name": "Python 3",
      "name": "python3"
    },
    "language_info": {
      "codemirror_mode": {
        "name": "ipython",
        "version": 3
      },
      "file_extension": ".py",
      "mimetype": "text/x-python",
      "name": "python",
      "nbconvert_exporter": "python",
      "pygments_lexer": "ipython3",
      "version": "3.10.8"
    }
  },
  "nbformat": 4,
  "nbformat_minor": 0
}
